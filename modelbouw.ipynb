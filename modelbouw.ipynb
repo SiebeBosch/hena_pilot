{
 "cells": [
  {
   "cell_type": "markdown",
   "metadata": {},
   "source": [
    "# D-Hydro De Dellen V1\n",
    "\n",
    "## Introductie\n",
    "\n",
    "Met dit notebook bouw je een D-hydromodel voor Stroomgebied De Dellen in het beheergebied van waterschap Hunze en Aa's.\n",
    "\n",
    "Zorg dat je beschikt over een werkende Python installatie en <a href=\"https://github.com/openearth/delft3dfmpy#installation\">D-HYDAMO omgeving</a>. Het resulterende model moet geimporteerd kunnen worden in D-HYDRO versie 0.9.7.52006 of hoger.\n",
    "\n",
    "De verwijzing naar bestanden is geschreven in het Nederlands. De rest van de code is geschreven in het Engels. Elk code-blok is voorzien van uitleg boven het desbetreffende blok, geschreven in het Nederlands.\n",
    "\n",
    "Download de bestanden van <a href=\"https://www.dropbox.com/s/xzl38m1xyl9dqpc/beheerregister.zip?dl=0\">Dropbox</a> en zet deze in de folder .\\beheerregister"
   ]
  },
  {
   "cell_type": "markdown",
   "metadata": {},
   "source": [
    "## Controle bestanden\n",
    "\n",
    "Alle bestanden die gebruikt worden in deze tutorial staan in het code-blok hieronder. Wanneer je dit codeblok uitvoert wordt de aanwezigheid van deze bestanden gecontroleerd.\n",
    "\n"
   ]
  },
  {
   "cell_type": "code",
   "execution_count": 1,
   "metadata": {
    "scrolled": true
   },
   "outputs": [
    {
     "name": "stdout",
     "output_type": "stream",
     "text": [
      "Paden succesvol ingesteld.\n"
     ]
    }
   ],
   "source": [
    "from pathlib import Path\n",
    "\n",
    "beheerregister = Path(r\".\\beheerregister\").absolute().resolve()\n",
    "\n",
    "invoerbestanden = {\"modelgebied\": \"DeDellen_gebiedsgrens.shp\",\n",
    "                   \"branches\": \"Hoofdwatergang_Dellen_singlepart.shp\",\n",
    "                   \"profielpunten\": \"profielpunten_Dellen.shp\",\n",
    "                   \"bruggen\": \"Brug.shp\",\n",
    "                   \"duikers\": \"Duiker_Dellen.shp\",\n",
    "                   \"sifons\": \"Syphon.shp\",\n",
    "                   \"stuwen\": \"Stuw.shp\",\n",
    "                   \"inlaten\": \"Inlaat.shp\",\n",
    "                   \"gemalen\": \"Gemaal.shp\",\n",
    "                   \"peilgebieden\": \"Peilgebied_Dellen.shp\"}\n",
    "\n",
    "vorm_mapping = dict(rond=1,\n",
    "                    driehoekig=1,\n",
    "                    rechthoekig=3,\n",
    "                    eivormig=1,\n",
    "                    ellips=1,\n",
    "                    Paraboolvormig=1,\n",
    "                    trapeziumvormig=1,\n",
    "                    heul=1,\n",
    "                    muil=3,\n",
    "                    langwerpig=1,\n",
    "                    scherp=1,\n",
    "                    onbekend=99,\n",
    "                    overig=99)\n",
    "\n",
    "for key, item in invoerbestanden.items():\n",
    "    if not beheerregister.joinpath(item).exists():\n",
    "        print(f\"bestand voor {key} bestaat niet: {beheerregister.joinpath(item)}\")\n",
    "print(\"Paden succesvol ingesteld.\")"
   ]
  },
  {
   "cell_type": "markdown",
   "metadata": {},
   "source": [
    "## Inlezen beheerregister in HyDAMO\n",
    "\n",
    "### Aanmaken HyDAMO object\n",
    "\n",
    "Alle benodigde modules worden geimporteerd en het HYDAMO object wordt aangemaakt bij het uitvoeren van onderstaand code-blok"
   ]
  },
  {
   "cell_type": "code",
   "execution_count": 2,
   "metadata": {},
   "outputs": [],
   "source": [
    "from delft3dfmpy import DFlowFMModel, HyDAMO, Rectangular, DFlowFMWriter\n",
    "from delft3dfmpy import DFlowRRModel, DFlowRRWriter\n",
    "from delft3dfmpy.datamodels.common import ExtendedGeoDataFrame\n",
    "import hydrotools\n",
    "import geopandas as gpd\n",
    "import pandas as pd\n",
    "from shapely.geometry import LineString\n",
    "\n",
    "hydamo = HyDAMO(extent_file=str(beheerregister.joinpath(invoerbestanden[\"modelgebied\"])))"
   ]
  },
  {
   "cell_type": "markdown",
   "metadata": {},
   "source": [
    "### Toevoegen waterlopen\n",
    "\n",
    "De waterlopen (branches) worden toegevoegd met volgend code-blok:\n",
    "* de branches worden toegekend aan het hydamo-object\n",
    "* een HyDAMO ruwheidscode (4 = manning) wordt toegekend\n",
    "* de eindpunten van de branches worden gesnapped binnen een tolerantie van 1m. De coordinaten worden ook afgerond op 1m."
   ]
  },
  {
   "cell_type": "code",
   "execution_count": 3,
   "metadata": {},
   "outputs": [],
   "source": [
    "gdf = hydrotools.read_file(beheerregister.joinpath(invoerbestanden[\"branches\"]),\n",
    "                           \"branches\",\n",
    "                           keep_columns=[\"OBJECTID\"],\n",
    "                           column_mapping={\"OVKIDENT\": \"code\"},\n",
    "                           )\n",
    "\n",
    "hydamo.branches.set_data(gdf, index_col=\"code\", check_columns=True, check_geotype=True)\n",
    "hydamo.branches[\"ruwheidstypecode\"] = 4\n",
    "\n",
    "hydamo.branches = hydrotools.snap_ends(hydamo.branches, tolerance=1, digits=1)"
   ]
  },
  {
   "cell_type": "markdown",
   "metadata": {},
   "source": [
    "### Toevoegen yz-profielen\n",
    "De yz-profielen worden ingeladen:\n",
    "* De profielpunten worden geopend\n",
    "* de punten worden geordend en geconverteerd naar polylinen met een xyz coordinaten\n",
    "* toekennen ruwheid (manning = 35)\n",
    "* lijnen langer dan 500m worden weggegooid, omdat er soms kademuren PRO_TYPE = PRO hebben gekregen\n",
    "* lijnen worden toegekend aan het HyDAMO object\n",
    "* lijnen die niet snappen met de branches, worden weggegooid\n",
    "\n",
    "ToDo:\n",
    "* verbeteren toekenning ruwheid"
   ]
  },
  {
   "cell_type": "code",
   "execution_count": 4,
   "metadata": {},
   "outputs": [
    {
     "name": "stdout",
     "output_type": "stream",
     "text": [
      "0          20030408-7\n",
      "5          20030404-5\n",
      "7          20030312-7\n",
      "8          20030310-9\n",
      "9          20030211-3\n",
      "            ...      \n",
      "3980    DP20151028-11\n",
      "3982    DP20151028-15\n",
      "3985    DP20151028-12\n",
      "3986    DP20151028-11\n",
      "3987    DP20151028-11\n",
      "Name: code, Length: 2371, dtype: object\n",
      "Waarschuwing: 20060329-1372 bevat slechts één punt\n",
      "Waarschuwing: 20060329-1373 bevat slechts één punt\n",
      "Waarschuwing: DP20130329-36 bevat slechts één punt\n",
      "Waarschuwing: DP20140224-06 bevat slechts één punt\n",
      "Waarschuwing: DP20151026-21 bevat slechts één punt\n",
      "Waarschuwing: LT0196180904113302 bevat slechts één punt\n"
     ]
    }
   ],
   "source": [
    "gdf = hydrotools.read_file(beheerregister.joinpath(invoerbestanden[\"profielpunten\"]),\n",
    "                           \"crosssections\",\n",
    "                           attribute_filter={\"osmomsch\": [\"Z1\"]},  #we nemen alleen profielen van het type Z1 (vaste bodem) \n",
    "                           column_mapping={\"CODE\": \"code\",\n",
    "                                           \"IWS_VOLGNR\": \"order\",\n",
    "                                           \"OSMOMSCH\": \"category\",\n",
    "                                           \"iws_hoogte\": \"z\"},\n",
    "                           z_coord=True\n",
    "                           )\n",
    "print(gdf[\"code\"])\n",
    "grouper = gdf.groupby(\"code\")\n",
    "profiles = dict()\n",
    "\n",
    "for code, prof_gdf in grouper:\n",
    "    if len(prof_gdf) > 1: \n",
    "        prof_gdf = prof_gdf.sort_values(\"order\")  #Staan ook punten met zelfde order\n",
    "        first_point = prof_gdf.iloc[0][\"geometry\"]\n",
    "        cum_dist = -1\n",
    "        line = []\n",
    "        for idx, (_, row) in enumerate(prof_gdf.iterrows()):\n",
    "            geom = row[\"geometry\"]\n",
    "            distance = geom.distance(first_point)\n",
    "            if distance > cum_dist:\n",
    "                cum_dist = distance\n",
    "                line += [(geom.x, geom.y, row[\"z\"])]\n",
    "\n",
    "        profiles[code] = [code, LineString(line)]\n",
    "    else:\n",
    "        print(f\"Waarschuwing: {code} bevat slechts één punt\")\n",
    "profiles_gdf = gpd.GeoDataFrame.from_dict(profiles,\n",
    "                                          orient=\"index\",\n",
    "                                          columns=[\"code\",\n",
    "                                                   \"geometry\"]\n",
    "                                          )\n",
    "\n",
    "profiles_gdf[\"ruwheidstypecode\"] = 4\n",
    "profiles_gdf[\"ruwheidswaarde\"] = 35\n",
    "profiles_gdf[\"codegerelateerdobject\"] = None\n",
    "\n",
    "profiles_gdf = profiles_gdf.loc[profiles_gdf[\"geometry\"].length < 500]\n",
    "\n",
    "hydamo.crosssections.set_data(profiles_gdf,\n",
    "                              index_col=\"code\",\n",
    "                              check_columns=True,\n",
    "                              check_geotype=True)\n",
    "\n",
    "hydamo.crosssections.snap_to_branch(hydamo.branches, snap_method=\"intersecting\")\n",
    "hydamo.crosssections.dropna(axis=0, inplace=True, subset=[\"branch_offset\"])"
   ]
  },
  {
   "cell_type": "markdown",
   "metadata": {},
   "source": [
    "### Toevoegen geparameteriseerde profielen\n",
    "\n",
    "Per brug moet er een profiel worden toegevoegd"
   ]
  },
  {
   "cell_type": "code",
   "execution_count": 5,
   "metadata": {
    "code_folding": []
   },
   "outputs": [],
   "source": [
    "gdf = hydrotools.read_file(beheerregister.joinpath(invoerbestanden[\"bruggen\"]),\n",
    "                           \"parametrised_profiles\",\n",
    "                           column_mapping={\n",
    "                                           \"KBRIDENT\":\"code\",\n",
    "                                           \"KBRBHBO\": \"bodemhoogtebovenstrooms\",\n",
    "                                           \"KBRBHBE\": \"bodemhoogtebenedenstrooms\",\n",
    "                                           \"KBRBREED\": \"bodembreedte\",\n",
    "                                           \"KBRHOBO\": \"hoogteinsteeklinkerzijde\",\n",
    "                                           })\n",
    "\n",
    "grouper = gdf.groupby(\"code\")\n",
    "data = {\"code\": [code for code, frame in grouper],\n",
    "        \"bodemhoogtebovenstrooms\": [frame[\"bodemhoogtebovenstrooms\"].values[0]\n",
    "                                    for code, frame in grouper],\n",
    "        \"bodemhoogtebenedenstrooms\": [frame[\"bodemhoogtebenedenstrooms\"].values[0]\n",
    "                                      for code, frame in grouper],\n",
    "        \"bodembreedte\": [frame[\"bodembreedte\"].values[0]\n",
    "                         for code, frame in grouper],\n",
    "        \"hoogteinsteeklinkerzijde\": [frame[\"hoogteinsteeklinkerzijde\"].values[0]\n",
    "                                     for code, frame in grouper],\n",
    "        \"geometry\": [frame[\"geometry\"].values[0] for code, frame in grouper]\n",
    "        }\n",
    "\n",
    "gdf = gpd.GeoDataFrame(data)\n",
    "gdf[\"geometry\"] = gdf.apply((lambda x: LineString([[x[\"geometry\"].x,\n",
    "                                                    x[\"geometry\"].y],\n",
    "                                                  [x[\"geometry\"].x+1,\n",
    "                                                   x[\"geometry\"].y+1]])),\n",
    "                            axis=1)\n",
    "\n",
    "gdf[\"codegerelateerdobject\"] = gdf[\"code\"].copy()\n",
    "gdf[\"code\"] = [f\"PRO_{code}\" for code in gdf[\"code\"]]\n",
    "gdf[\"hoogteinsteekrechterzijde\"] = gdf[\"hoogteinsteeklinkerzijde\"]\n",
    "gdf[\"ruwheidswaarde\"] = 15\n",
    "gdf[\"ruwheidstypecode\"] = 4\n",
    "gdf[\"taludhellinglinkerzijde\"] = 1\n",
    "gdf[\"taludhellingrechterzijde\"] = 1\n",
    "\n",
    "#vervang nan-waarde voor bodembreedte door  defaultwaarde 1\n",
    "gdf.loc[gdf[\"bodembreedte\"].isna(), \"bodembreedte\"] = 1\n",
    "\n",
    "hydamo.parametrised_profiles.set_data(gdf,\n",
    "                                      index_col=\"code\",\n",
    "                                      check_columns=True,\n",
    "                                      check_geotype=False)"
   ]
  },
  {
   "cell_type": "markdown",
   "metadata": {},
   "source": [
    "### Toevoegen bruggen\n",
    "Per brug moet er een profiel worden toegevoegd"
   ]
  },
  {
   "cell_type": "code",
   "execution_count": 6,
   "metadata": {},
   "outputs": [],
   "source": [
    "gdf = hydrotools.read_file(beheerregister.joinpath(invoerbestanden[\"bruggen\"]),\n",
    "                           \"bridges\",\n",
    "                           column_mapping={\n",
    "                                           \"KBRIDENT\":\"code\",\n",
    "                                           \"KBRLENGT\": \"lengte\",\n",
    "                                           \"KBRHOBO\": \"hoogteonderzijde\"})\n",
    "\n",
    "grouper = gdf.groupby(\"code\")\n",
    "data = {\"code\": [code for code, frame in grouper],\n",
    "        \"hoogteonderzijde\": [frame[\"hoogteonderzijde\"].values[0] for code,\n",
    "                             frame in grouper],\n",
    "        \"lengte\": [frame[\"lengte\"].values[0] for code, frame in grouper],\n",
    "        \"geometry\": [frame[\"geometry\"].values[0] for code, frame in grouper]\n",
    "        }\n",
    "gdf = gpd.GeoDataFrame(data)\n",
    "\n",
    "gdf[\"hoogtebovenzijde\"] = gdf[\"hoogteonderzijde\"] + 1\n",
    "\n",
    "gdf[\"dwarsprofielcode\"] = gdf[\"code\"]\n",
    "gdf[\"intreeverlies\"] = 0.7\n",
    "gdf[\"uittreeverlies\"] = 0.7\n",
    "gdf[\"ruwheidstypecode\"] = 4\n",
    "gdf[\"ruwheidswaarde\"] = 70\n",
    "\n",
    "hydamo.bridges.set_data(gdf, index_col=\"code\", check_columns=True, check_geotype=False)\n",
    "hydamo.bridges.snap_to_branch(hydamo.branches, snap_method=\"overal\", maxdist=5)\n",
    "hydamo.bridges.dropna(axis=0, inplace=True, subset=[\"branch_offset\"])"
   ]
  },
  {
   "cell_type": "markdown",
   "metadata": {},
   "source": [
    "### Toevoegen duikers en siphons\n",
    "duikers en sifons worden als cuverts aan het HyDAMO object toegekend\n",
    "\n",
    "ToDo\n",
    "* vorm moet naar HyDAMO codering worden omgeschreven"
   ]
  },
  {
   "cell_type": "code",
   "execution_count": 7,
   "metadata": {},
   "outputs": [],
   "source": [
    "culverts_gdf = hydrotools.read_file(beheerregister.joinpath(invoerbestanden[\"duikers\"]),\n",
    "                                    \"culverts\",\n",
    "                                    column_mapping={\n",
    "                                                    \"KDUIDENT\": \"code\",\n",
    "                                                    \"KDULENGT\": \"lengte\",\n",
    "                                                    \"hoogte_a1\": \"hoogteopening\",\n",
    "                                                    \"breedte\": \"breedteopening\",\n",
    "                                                    \"bok_benede\": \"hoogtebinnenonderkantbenedenstrooms\",\n",
    "                                                    \"bok_boven\": \"hoogtebinnenonderkantbovenstrooms\",\n",
    "                                                    \"KDUVORM\": \"vormcode\"})\n",
    "\n",
    "siphons_gdf = hydrotools.read_file(beheerregister.joinpath(invoerbestanden[\"sifons\"]),\n",
    "                                   \"culverts\",\n",
    "                                   column_mapping={\n",
    "                                                   \"KSYIDENT\": \"code\",\n",
    "                                                   \"IWS_LENGTE\": \"lengte\",\n",
    "                                                   \"KSYHGA1\": \"hoogteopening\",\n",
    "                                                   \"KSYBREED\": \"breedteopening\",\n",
    "                                                   \"IWS_HBOKBE\":\"hoogtebinnenonderkantbenedenstrooms\",\n",
    "                                                   \"IWS_HBOKBO\":\"hoogtebinnenonderkantbovenstrooms\",\n",
    "                                                   \"KSYVORM\":\"vormcode\"})\n",
    "\n",
    "gdf = gpd.GeoDataFrame(pd.concat([culverts_gdf,siphons_gdf], ignore_index=True))\n",
    "\n",
    "gdf.loc[gdf['vormcode'].isnull(), 'vormcode'] = 'onbekend'\n",
    "gdf.loc[:, 'vormcode'] = gdf.apply((lambda x: vorm_mapping[x['vormcode'].lower()]), axis=1)\n",
    "\n",
    "gdf[\"intreeverlies\"] = 0.7\n",
    "gdf[\"uittreeverlies\"] = 0.7\n",
    "gdf[\"ruwheidswaarde\"] = 70\n",
    "gdf[\"ruwheidstypecode\"] = 4\n",
    "\n",
    "hydamo.culverts.set_data(gdf, index_col=\"code\", check_columns=True, check_geotype=True)\n",
    "hydamo.culverts.snap_to_branch(hydamo.branches, snap_method=\"ends\", maxdist=5)\n",
    "hydamo.culverts.dropna(axis=0, inplace=True, subset=[\"branch_offset\"])\n",
    "\n",
    "hydamo.culverts.loc[hydamo.culverts[\"hoogteopening\"].isna(), \"hoogteopening\"] = 0.5\n",
    "hydamo.culverts.loc[hydamo.culverts[\"breedteopening\"].isna(), \"breedteopening\"] = 0.5\n",
    "hydamo.culverts.loc[hydamo.culverts[\"lengte\"].isna(), \"lengte\"] = 20\n"
   ]
  },
  {
   "cell_type": "markdown",
   "metadata": {},
   "source": [
    "### Toevoegen stuwen"
   ]
  },
  {
   "cell_type": "code",
   "execution_count": 8,
   "metadata": {},
   "outputs": [],
   "source": [
    "gdf = hydrotools.read_file(beheerregister.joinpath(invoerbestanden[\"stuwen\"]),\n",
    "                           \"weirs\",\n",
    "                           column_mapping={\"kstident\": \"code\",\n",
    "                                           \"kstsoort\": \"soortstuwcode\",\n",
    "                                           \"kstkrubr\": \"laagstedoorstroombreedte\",\n",
    "                                           \"kstmikho\": \"laagstedoorstroomhoogte\",\n",
    "                                           \"kstregel\": \"soortregelbaarheidcode\"})\n",
    "\n",
    "gdf[\"afvoercoefficient\"] = 1\n",
    "\n",
    "hydamo.weirs.set_data(gdf, index_col=\"code\", check_columns=True, check_geotype=True)\n",
    "hydamo.weirs.snap_to_branch(hydamo.branches, snap_method=\"overal\", maxdist=10)\n",
    "hydamo.weirs.dropna(axis=0, inplace=True, subset=[\"branch_offset\"])"
   ]
  },
  {
   "cell_type": "markdown",
   "metadata": {},
   "source": [
    "### Toevoegen gemalen"
   ]
  },
  {
   "cell_type": "code",
   "execution_count": 9,
   "metadata": {},
   "outputs": [],
   "source": [
    "pumps_gdf = hydrotools.read_file(beheerregister.joinpath(invoerbestanden[\"gemalen\"]),\n",
    "                                 \"pumps\",\n",
    "                                 column_mapping={\n",
    "                                     \"KGMIDENT\": \"code\",\n",
    "                                     \"KGMMACAP\": \"maximalecapaciteit\"})\n",
    "\n",
    "gemalen_gdf = pumps_gdf.copy()\n",
    "pumps_gdf[\"codegerelateerdobject\"] = pumps_gdf[\"code\"].copy()\n",
    "pumps_gdf[\"code\"] = [f\"PMP_{code}\" for code in pumps_gdf[\"code\"]]\n",
    "hydamo.gemalen.set_data(gemalen_gdf,\n",
    "                        index_col=\"code\",\n",
    "                        check_columns=True,\n",
    "                        check_geotype=True)\n",
    "hydamo.gemalen.snap_to_branch(hydamo.branches, snap_method=\"overal\", maxdist=5)\n",
    "hydamo.gemalen.dropna(axis=0, inplace=True, subset=[\"branch_offset\"])\n",
    "hydamo.pumps.set_data(pumps_gdf,\n",
    "                      index_col=\"code\",\n",
    "                      check_columns=True,\n",
    "                      check_geotype=True)\n",
    "hydamo.pumps.snap_to_branch(hydamo.branches, snap_method=\"overal\", maxdist=5)\n",
    "hydamo.pumps.dropna(axis=0, inplace=True, subset=[\"branch_offset\"])"
   ]
  },
  {
   "cell_type": "markdown",
   "metadata": {},
   "source": [
    "### Toevoegen afsluitmiddelen"
   ]
  },
  {
   "cell_type": "code",
   "execution_count": 10,
   "metadata": {},
   "outputs": [],
   "source": [
    "gdf = pd.DataFrame({\"code\": [],\n",
    "                    \"soortafsluitmiddelcode\": [],\n",
    "                    \"codegerelateerdobject\": []})\n",
    "\n",
    "hydamo.afsluitmiddel.set_data(gdf, index_col=\"code\")"
   ]
  },
  {
   "cell_type": "markdown",
   "metadata": {},
   "source": [
    "### Toevoegen sturing"
   ]
  },
  {
   "cell_type": "code",
   "execution_count": 11,
   "metadata": {},
   "outputs": [],
   "source": [
    "gpg_gdf = hydrotools.read_file(beheerregister.joinpath(invoerbestanden[\"peilgebieden\"]),\n",
    "                                 \"sturing\",\n",
    "                                 column_mapping={\"GPGIDENT\": \"code\",\n",
    "                                                 \"OPVAFWZP\": \"streefwaarde\"\n",
    "                                                 })\n",
    "\n",
    "gpg_gdf[\"codegerelateerdobject\"] = [code.replace(\"GPG\", \"\") for code in gpg_gdf[\"code\"]]\n",
    "gpg_gdf = gpg_gdf[gpg_gdf[\"codegerelateerdobject\"].isin(hydamo.gemalen[\"code\"])]\n",
    "con_gdf = hydamo.gemalen[~hydamo.gemalen[\"code\"].isin(gpg_gdf[\"codegerelateerdobject\"])]\n",
    "con_gdf = gpd.GeoDataFrame(data={\"code\": con_gdf[\"code\"].values,\n",
    "                                 \"geometry\": con_gdf[\"geometry\"].values})\n",
    "con_gdf[\"codegerelateerdobject\"] = con_gdf[\"code\"]\n",
    "con_gdf[\"streefwaarde\"] = -999\n",
    "\n",
    "gdf = gpd.GeoDataFrame(pd.concat([gpg_gdf, con_gdf], ignore_index=True))\n",
    "\n",
    "gdf[\"bovenmarge\"] = gdf[\"streefwaarde\"] + 0.05\n",
    "gdf[\"ondermarge\"] = gdf[\"streefwaarde\"] - 0.05\n",
    "gdf[\"doelvariabelecode\"] = 1\n",
    "\n",
    "hydamo.sturing.set_data(gdf, index_col=\"code\")"
   ]
  },
  {
   "cell_type": "markdown",
   "metadata": {},
   "source": [
    "### Filteren\n",
    "\n",
    "We maken een subset van branches op basis van waarden uit een gegeven veld. In dit geval worden alle takken waarvoor geldt OBJECTID = 1 opgenomen in de modelschematisatie. Idem voor alle kunstwerken + profielen die naar deze branches zijn gesnapped. Om het resultaat te beoordelen exporteren we alles naar shape-files. We slaan het hydamo object ook op als \"pickle\", zodat we bovenstaande stappen niet elke keer hoeven te herhalen"
   ]
  },
  {
   "cell_type": "code",
   "execution_count": 12,
   "metadata": {},
   "outputs": [],
   "source": [
    "hydamo = hydrotools.filter_model(hydamo, attribute_filter={\"OBJECTID\": 1})\n",
    "hydrotools.export_shapes(hydamo, path=Path(r\"./hydamo_shp/dellen\"))\n",
    "hydrotools.save_model(hydamo, file_name=Path(r\"./hydamo_model/dellen.pickle\"))\n"
   ]
  },
  {
   "cell_type": "markdown",
   "metadata": {},
   "source": [
    "## Converteren naar DFM\n",
    "\n",
    "### Aanmaken dfm-klasse"
   ]
  },
  {
   "cell_type": "code",
   "execution_count": 13,
   "metadata": {},
   "outputs": [],
   "source": [
    "dfmmodel = DFlowFMModel()"
   ]
  },
  {
   "cell_type": "markdown",
   "metadata": {},
   "source": [
    "### Inlezen kunstwerken"
   ]
  },
  {
   "cell_type": "code",
   "execution_count": 14,
   "metadata": {},
   "outputs": [
    {
     "name": "stdout",
     "output_type": "stream",
     "text": [
      "2021-03-30 18:57:25,547 - delft3dfmpy.converters.hydamo_to_dflowfm - hydamo_to_dflowfm - INFO - Currently only simple weirs can be applied. From Hydamo the attributes 'laagstedoorstroomhoogte' and 'kruinbreedte' are used to define the weir dimensions.\n"
     ]
    }
   ],
   "source": [
    "dfmmodel.structures.io.weirs_from_hydamo(hydamo.weirs,\n",
    "                                         yz_profiles=hydamo.crosssections,\n",
    "                                         parametrised_profiles=hydamo.parametrised_profiles)\n",
    "\n",
    "dfmmodel.structures.io.culverts_from_hydamo(hydamo.culverts,\n",
    "                                            hydamo.afsluitmiddel)\n",
    "\n",
    "dfmmodel.structures.io.bridges_from_hydamo(hydamo.bridges,\n",
    "                                           yz_profiles=hydamo.crosssections,\n",
    "                                           parametrised_profiles=hydamo.parametrised_profiles)\n",
    "\n",
    "dfmmodel.structures.io.orifices_from_hydamo(hydamo.orifices)\n",
    "\n",
    "dfmmodel.structures.io.pumps_from_hydamo(pompen=hydamo.pumps,\n",
    "                                         sturing=hydamo.sturing,\n",
    "                                         gemalen=hydamo.gemalen)"
   ]
  },
  {
   "cell_type": "markdown",
   "metadata": {},
   "source": [
    "### Aanmaken 1d netwerk"
   ]
  },
  {
   "cell_type": "code",
   "execution_count": 15,
   "metadata": {},
   "outputs": [
    {
     "name": "stdout",
     "output_type": "stream",
     "text": [
      "2021-03-30 18:57:25,726 - delft3dfmpy.core.dfm - dfm - WARNING - Some structures are not linked to a branch.\n",
      "2021-03-30 18:57:25,728 - delft3dfmpy.core.dfm - dfm - INFO - Added 1d mesh nodes on branch OAF-O-00002 at: [0.0, 11.2455, 44.9795, 71.86952376243264], due to the structures at [-0.001, 0.395, 22.096, 67.863, 71.87052376243264].\n",
      "2021-03-30 18:57:25,730 - delft3dfmpy.core.dfm - dfm - INFO - Added 1d mesh nodes on branch OAF-O-00055 at: [0.0, 167.724, 243.82632055416894], due to the structures at [-0.001, 83.697, 164.875, 170.573, 243.82732055416895].\n",
      "2021-03-30 18:57:25,733 - delft3dfmpy.core.dfm - dfm - INFO - Added 1d mesh nodes on branch OAF-O-00059 at: [0.0, 525.8355, 985.2560000000001, 1046.7224999999999, 1083.8750337963056], due to the structures at [-0.001, 202.435, 317.621, 519.202, 532.469, 949.244, 1021.268, 1072.177, 1083.8760337963056].\n",
      "2021-03-30 18:57:25,736 - delft3dfmpy.core.dfm - dfm - INFO - Added 1d mesh nodes on branch OAF-O-00074 at: [0.0, 332.924, 384.3930800137231], due to the structures at [-0.001, 115.535, 296.14, 369.708, 384.39408001372306].\n",
      "2021-03-30 18:57:25,738 - delft3dfmpy.core.dfm - dfm - INFO - Added 1d mesh nodes on branch OAF-O-00075 at: [0.0, 64.7005, 297.053, 360.83950000000004, 402.3905, 952.7540461972314], due to the structures at [-0.001, 62.168, 67.233, 265.352, 328.754, 392.925, 411.856, 728.011, 952.7550461972314].\n",
      "2021-03-30 18:57:25,739 - delft3dfmpy.core.dfm - dfm - INFO - Added 1d mesh nodes on branch OAF-O-00076 at: [0.0, 457.219, 497.38105934133694], due to the structures at [-0.001, 427.513, 486.925, 497.3820593413369].\n",
      "2021-03-30 18:57:25,741 - delft3dfmpy.core.dfm - dfm - INFO - Added 1d mesh nodes on branch OAF-O-00078 at: [0.0, 48.592, 331.1461452438008], due to the structures at [-0.001, 0.1, 97.084, 300.47, 331.14714524380076].\n",
      "2021-03-30 18:57:25,743 - delft3dfmpy.core.dfm - dfm - INFO - Added 1d mesh nodes on branch OAF-O-00080 at: [0.0, 55.610499999999995, 119.1605, 180.1045, 223.987, 254.16640847912615], due to the structures at [-0.001, 31.615, 79.606, 158.715, 201.494, 246.48, 254.16740847912615].\n",
      "2021-03-30 18:57:25,744 - delft3dfmpy.core.dfm - dfm - INFO - Added 1d mesh nodes on branch OAF-O-00081 at: [0.0, 826.076, 874.643868967265], due to the structures at [-0.001, 30.157, 392.445, 817.97, 834.182, 874.644868967265].\n",
      "2021-03-30 18:57:25,746 - delft3dfmpy.core.dfm - dfm - INFO - Added 1d mesh nodes on branch OAF-O-00088 at: [0.0, 48.606, 120.00200000000001, 279.38780142307286], due to the structures at [-0.001, 3.507, 93.705, 146.299, 279.38880142307283].\n",
      "2021-03-30 18:57:25,748 - delft3dfmpy.core.dfm - dfm - INFO - Added 1d mesh nodes on branch OAF-O-00098 at: [0.0, 340.0475, 366.1234109793208], due to the structures at [-0.001, 334.957, 345.138, 366.12441097932077].\n",
      "2021-03-30 18:57:25,749 - delft3dfmpy.core.dfm - dfm - INFO - Added 1d mesh nodes on branch OAF-O-00102 at: [0.0, 187.058, 246.5205965291118, 271.2721930582236], due to the structures at [-0.001, 152.247, 221.869, 271.17219305822357, 271.27319305822357].\n",
      "2021-03-30 18:57:25,750 - delft3dfmpy.core.dfm - dfm - INFO - Added 1d mesh nodes on branch OAF-O-00103 at: [0.0, 65.4695, 648.241215951584], due to the structures at [-0.001, 61.08, 69.859, 374.47, 648.242215951584].\n",
      "2021-03-30 18:57:25,753 - delft3dfmpy.core.dfm - dfm - INFO - Added 1d mesh nodes on branch OAF-O-00104 at: [0.0, 253.40699999999998, 305.948, 466.3295, 474.91340110984515, 478.9698022196904], due to the structures at [-0.001, 5.998, 247.402, 259.412, 352.484, 461.702, 470.957, 478.86980221969037, 478.97080221969037].\n",
      "2021-03-30 18:57:25,755 - delft3dfmpy.core.dfm - dfm - INFO - Added 1d mesh nodes on branch OAF-O-00115 at: [0.0, 567.501, 579.7083196385747], due to the structures at [-0.001, 561.384, 573.618, 579.7093196385747].\n",
      "2021-03-30 18:57:25,761 - delft3dfmpy.core.dfm - dfm - INFO - Added 1d mesh nodes on branch OAF-O-00141 at: [0.0, 480.4815, 522.3824050682476], due to the structures at [-0.001, 476.399, 484.564, 522.3834050682476].\n",
      "2021-03-30 18:57:25,763 - delft3dfmpy.core.dfm - dfm - INFO - Added 1d mesh nodes on branch OAF-O-00144 at: [0.0, 532.1305, 554.8028620441672], due to the structures at [-0.001, 527.515, 536.746, 554.8038620441672].\n",
      "2021-03-30 18:57:25,764 - delft3dfmpy.core.dfm - dfm - INFO - Added 1d mesh nodes on branch OAF-O-00146 at: [0.0, 60.6415, 140.3926280115578], due to the structures at [-0.001, 0.199, 121.084, 140.3936280115578].\n",
      "2021-03-30 18:57:25,768 - delft3dfmpy.core.dfm - dfm - INFO - Added 1d mesh nodes on branch OAF-O-00156 at: [0.0, 35.6285, 74.203, 78.82410956952805], due to the structures at [-0.001, 0.39, 70.867, 77.539, 78.82510956952805].\n",
      "2021-03-30 18:57:25,769 - delft3dfmpy.core.dfm - dfm - INFO - Added 1d mesh nodes on branch OAF-O-00157 at: [0.0, 71.3115, 79.52706115342136, 87.02012230684271], due to the structures at [-0.001, 70.489, 72.134, 86.92012230684271, 87.02112230684271].\n",
      "2021-03-30 18:57:25,773 - delft3dfmpy.core.dfm - dfm - INFO - Added 1d mesh nodes on branch OAF-O-00815 at: [0.0, 58.8685, 128.12670515741158], due to the structures at [-0.001, 0.1, 117.637, 128.12770515741158].\n",
      "2021-03-30 18:57:25,774 - delft3dfmpy.core.dfm - dfm - INFO - Added 1d mesh nodes on branch OAF-O-00834 at: [0.0, 4.38, 51.6355, 245.77011357302118], due to the structures at [-0.001, 1.982, 6.778, 96.493, 245.77111357302118].\n",
      "2021-03-30 18:57:25,779 - delft3dfmpy.core.dfm - dfm - INFO - Added 1d mesh nodes on branch OAF-O-00902 at: [0.0, 30.0345, 90.7105, 160.363, 223.20299999999997, 286.565, 355.62149999999997, 518.33, 547.59, 554.159368076477], due to the structures at [-0.001, 10.517, 49.552, 131.869, 188.857, 257.549, 315.581, 395.662, 494.003, 542.657, 552.523, 554.160368076477].\n",
      "2021-03-30 18:57:25,781 - delft3dfmpy.core.dfm - dfm - INFO - Added 1d mesh nodes on branch OAF-O-00957 at: [0.0, 221.40800000000002, 247.52336146115817], due to the structures at [-0.001, 206.178, 236.638, 247.52436146115818].\n",
      "2021-03-30 18:57:25,785 - delft3dfmpy.core.dfm - dfm - INFO - Added 1d mesh nodes on branch OAF-O-01042 at: [0.0, 23.261499999999998, 44.2585, 81.1885, 128.78334224979744, 142.26068449959484], due to the structures at [-0.001, 4.977, 41.546, 46.971, 115.406, 142.16068449959485, 142.26168449959485].\n",
      "2021-03-30 18:57:25,786 - delft3dfmpy.core.dfm - dfm - INFO - Added 1d mesh nodes on branch OAF-O-01043 at: [0.0, 165.1725, 170.63104820571576], due to the structures at [-0.001, 0.1, 161.663, 168.682, 170.63204820571576].\n",
      "2021-03-30 18:57:25,788 - delft3dfmpy.core.dfm - dfm - INFO - Added 1d mesh nodes on branch OAF-O-02383 at: [0.0, 56.673, 95.54775367917225], due to the structures at [-0.001, 45.072, 68.274, 95.54875367917225].\n",
      "2021-03-30 18:57:25,790 - delft3dfmpy.core.dfm - dfm - INFO - Added 1d mesh nodes on branch OAF-O-02392 at: [0.0, 46.242999999999995, 65.00376912149031], due to the structures at [-0.001, 32.489, 59.997, 65.00476912149031].\n",
      "2021-03-30 18:57:25,793 - delft3dfmpy.core.dfm - dfm - INFO - Added 1d mesh nodes on branch OAF-O-02415 at: [0.0, 1.7845, 6.940461079775195], due to the structures at [-0.001, 0.1, 3.469, 6.941461079775196].\n",
      "2021-03-30 18:57:25,794 - delft3dfmpy.core.dfm - dfm - WARNING - Structures KDU-O-03990, PMP_KGM-O-11730 have the same location.\n"
     ]
    }
   ],
   "source": [
    "dfmmodel.network.set_branches(hydamo.branches)\n",
    "dfmmodel.network.generate_1dnetwork(one_d_mesh_distance=100.0, seperate_structures=True)"
   ]
  },
  {
   "cell_type": "markdown",
   "metadata": {},
   "source": [
    "### Toevoegen cross-sections"
   ]
  },
  {
   "cell_type": "code",
   "execution_count": 16,
   "metadata": {},
   "outputs": [
    {
     "name": "stdout",
     "output_type": "stream",
     "text": [
      "2021-03-30 18:57:25,916 - delft3dfmpy.io.dfmreader - dfmreader - INFO - Before adding the number of branches without cross section is: 172.\n",
      "2021-03-30 18:57:26,077 - delft3dfmpy.io.dfmreader - dfmreader - INFO - After adding 'dwarsprofielen' the number of branches without cross section is: 52.\n",
      "No parametrised crossections available for branches.\n",
      "2021-03-30 18:57:26,079 - delft3dfmpy.io.dfmreader - dfmreader - INFO - Before adding the number of structures without cross section is: 7.\n",
      "2021-03-30 18:57:26,094 - delft3dfmpy.io.dfmreader - dfmreader - INFO - After adding 'dwarsprofielen' the number of branches without cross section is: 7.\n",
      "2021-03-30 18:57:26,130 - delft3dfmpy.io.dfmreader - dfmreader - INFO - After adding 'normgeparametriseerd' the number of structures without cross section is: 0.\n",
      "52 branches are still missing a cross section.\n",
      "0 structures are still missing a cross section.\n"
     ]
    }
   ],
   "source": [
    "dfmmodel.crosssections.io.from_hydamo(\n",
    "    dwarsprofielen=hydamo.crosssections,\n",
    "    parametrised=hydamo.parametrised_profiles,\n",
    "    branches=hydamo.branches\n",
    ")\n",
    "\n",
    "print(f\"{len(dfmmodel.crosssections.get_branches_without_crosssection())} branches are still missing a cross section.\")\n",
    "print(f\"{len(dfmmodel.crosssections.get_structures_without_crosssection())} structures are still missing a cross section.\")"
   ]
  },
  {
   "cell_type": "markdown",
   "metadata": {},
   "source": [
    "### Wegschrijven model"
   ]
  },
  {
   "cell_type": "code",
   "execution_count": 17,
   "metadata": {},
   "outputs": [
    {
     "name": "stdout",
     "output_type": "stream",
     "text": [
      "Model is weggeschreven\n"
     ]
    }
   ],
   "source": [
    "dfmmodel.mdu_parameters[\"refdate\"] = 20000101\n",
    "dfmmodel.mdu_parameters[\"tstart\"] = 0.0 * 3600\n",
    "dfmmodel.mdu_parameters[\"tstop\"] = 144.0 * 1 * 3600\n",
    "dfmmodel.mdu_parameters[\"hisinterval\"] = \"120. 0. 0.\"\n",
    "dfmmodel.mdu_parameters[\"cflmax\"] = 0.7\n",
    "\n",
    "dimr_path = r\"dummypath\\run_dimr.bat\"\n",
    "dfmmodel.dimr_path = dimr_path\n",
    "fm_writer = DFlowFMWriter(dfmmodel, output_dir=\"dellen\", name=\"dellen\")\n",
    "\n",
    "fm_writer.objects_to_ldb()\n",
    "fm_writer.write_all()\n",
    "\n",
    "if Path(r\".\\dellen\\fm\\dellen.mdu\").exists():\n",
    "    print(\"Model is weggeschreven\")\n",
    "else:\n",
    "    print(\"Er is geen model geschreven. Waarschijnlijk is iets fout gegaan\")"
   ]
  },
  {
   "cell_type": "markdown",
   "metadata": {},
   "source": [
    "## Importeren in de D-Hydro suite\n",
    "\n",
    "Open het model nu in D-Hydro:\n",
    "1. Open een \"Empty Project\"\n",
    "2. In de \"Home\" ribbon, ga naar \"Import\" en selecteer \"Flow Flexible Mesh Model\"\n",
    "3. Selecteer het bestand \"boezemmodel.mdu\" in \".\\dfm_model\\fm\\boezemmodel.mdu\"\n",
    "4. Wacht tot het model is geimporteerd.....\n",
    "\n",
    "Het geimporteerde model is nu zichtbaar in de D-Hydro suite\n",
    "<img src=\"png/boezemmodel.png\"/>"
   ]
  },
  {
   "cell_type": "code",
   "execution_count": null,
   "metadata": {},
   "outputs": [],
   "source": []
  },
  {
   "cell_type": "code",
   "execution_count": null,
   "metadata": {},
   "outputs": [],
   "source": []
  },
  {
   "cell_type": "code",
   "execution_count": null,
   "metadata": {},
   "outputs": [],
   "source": []
  },
  {
   "cell_type": "code",
   "execution_count": null,
   "metadata": {},
   "outputs": [],
   "source": []
  }
 ],
 "metadata": {
  "kernelspec": {
   "display_name": "Python 3",
   "language": "python",
   "name": "python3"
  },
  "language_info": {
   "codemirror_mode": {
    "name": "ipython",
    "version": 3
   },
   "file_extension": ".py",
   "mimetype": "text/x-python",
   "name": "python",
   "nbconvert_exporter": "python",
   "pygments_lexer": "ipython3",
   "version": "3.7.10"
  }
 },
 "nbformat": 4,
 "nbformat_minor": 4
}
