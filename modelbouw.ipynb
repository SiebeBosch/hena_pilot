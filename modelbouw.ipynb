{
 "cells": [
  {
   "cell_type": "markdown",
   "metadata": {},
   "source": [
    "# D-Hydro De Dellen V1\n",
    "\n",
    "## Introductie\n",
    "\n",
    "Met dit notebook bouw je een D-hydromodel voor Stroomgebied De Dellen in het beheergebied van waterschap Hunze en Aa's.\n",
    "\n",
    "Zorg dat je beschikt over een werkende Python installatie en <a href=\"https://github.com/openearth/delft3dfmpy#installation\">D-HYDAMO omgeving</a>. Het resulterende model moet geimporteerd kunnen worden in D-HYDRO versie 0.9.7.52006 of hoger.\n",
    "\n",
    "De verwijzing naar bestanden is geschreven in het Nederlands. De rest van de code is geschreven in het Engels. Elk code-blok is voorzien van uitleg boven het desbetreffende blok, geschreven in het Nederlands.\n",
    "\n",
    "Download de bestanden van <a href=\"https://www.dropbox.com/s/xzl38m1xyl9dqpc/beheerregister.zip?dl=0\">Dropbox</a> en zet deze in de folder .\\beheerregister\n",
    "    \n",
    "Dependencies: \n",
    "- voor het uitlezen van XLSX-bestanden (boundaries) is openpyxl nodig: conda install openpyxl dit moet uitgevoerd worden binnen de delft3dfmpy-environmen."
   ]
  },
  {
   "cell_type": "markdown",
   "metadata": {},
   "source": [
    "## Controle bestanden\n",
    "\n",
    "Alle bestanden die gebruikt worden in deze tutorial staan in het code-blok hieronder. Wanneer je dit codeblok uitvoert wordt de aanwezigheid van deze bestanden gecontroleerd.\n",
    "\n"
   ]
  },
  {
   "cell_type": "code",
   "execution_count": 2,
   "metadata": {
    "scrolled": true
   },
   "outputs": [
    {
     "name": "stdout",
     "output_type": "stream",
     "text": [
      "Paden succesvol ingesteld.\n"
     ]
    }
   ],
   "source": [
    "from pathlib import Path\n",
    "\n",
    "data_path = Path(r\".\\data\").absolute().resolve()\n",
    "excelbestanden = data_path.joinpath(\"xlsx\")\n",
    "\n",
    "beheerregister = Path(r\".\\beheerregister\").absolute().resolve()\n",
    "\n",
    "modelbestanden = {\"randvoorwaarden\":\"randvoorwaarden.xlsx\"}\n",
    "\n",
    "invoerbestanden = {\"modelgebied\": \"DeDellen_gebiedsgrens.shp\",\n",
    "                   \"branches\": \"Hoofdwatergang_Dellen_singlepart.shp\",\n",
    "                   \"profielpunten\": \"profielpunten_Dellen.shp\",\n",
    "                   \"bruggen\": \"Brug.shp\",\n",
    "                   \"duikers\": \"Duiker_Dellen.shp\",\n",
    "                   \"sifons\": \"Syphon.shp\",\n",
    "                   \"stuwen\": \"Stuw.shp\",\n",
    "                   \"inlaten\": \"Inlaat.shp\",\n",
    "                   \"gemalen\": \"Gemaal.shp\",\n",
    "                   \"peilgebieden\": \"Peilgebied_Dellen.shp\"}\n",
    "\n",
    "vorm_mapping = dict(rond=1,\n",
    "                    driehoekig=1,\n",
    "                    rechthoekig=3,\n",
    "                    eivormig=1,\n",
    "                    ellips=1,\n",
    "                    Paraboolvormig=1,\n",
    "                    trapeziumvormig=1,\n",
    "                    heul=1,\n",
    "                    muil=3,\n",
    "                    langwerpig=1,\n",
    "                    scherp=1,\n",
    "                    onbekend=99,\n",
    "                    overig=99)\n",
    "\n",
    "ruwheid_mapping = {\"A1\": 0.03,\n",
    "                   \"A2\": 0.03,\n",
    "                   \"A2 Boot\": 0.03,\n",
    "                   \"A3\": 0.03,\n",
    "                   \"B1\": 0.02,\n",
    "                   \"B2\": 0.022,\n",
    "                   \"C1\": 0.02,\n",
    "                   \"C2b\": 0.022,\n",
    "                   \"DERDEN\": 0.03,\n",
    "                   \"GEEN\": 0.07}\n",
    "\n",
    "for key, item in invoerbestanden.items():\n",
    "    if not beheerregister.joinpath(item).exists():\n",
    "        print(f\"bestand voor {key} bestaat niet: {beheerregister.joinpath(item)}\")\n",
    "        \n",
    "for key, item in modelbestanden.items():\n",
    "    if not excelbestanden.joinpath(item).exists():\n",
    "        print(f\"bestand voor {key} bestaat niet: {excelbestanden.joinpath(item)}\")\n",
    "        \n",
    "print(\"Paden succesvol ingesteld.\")"
   ]
  },
  {
   "cell_type": "markdown",
   "metadata": {},
   "source": [
    "## Inlezen beheerregister in HyDAMO\n",
    "\n",
    "### Aanmaken HyDAMO object\n",
    "\n",
    "Alle benodigde modules worden geimporteerd en het HYDAMO object wordt aangemaakt bij het uitvoeren van onderstaand code-blok"
   ]
  },
  {
   "cell_type": "code",
   "execution_count": 2,
   "metadata": {},
   "outputs": [],
   "source": [
    "from delft3dfmpy import DFlowFMModel, HyDAMO, Rectangular, DFlowFMWriter\n",
    "from delft3dfmpy import DFlowRRModel, DFlowRRWriter\n",
    "from delft3dfmpy.datamodels.common import ExtendedGeoDataFrame\n",
    "import hydrotools\n",
    "import geopandas as gpd\n",
    "import pandas as pd\n",
    "from shapely.geometry import LineString\n",
    "\n",
    "hydamo = HyDAMO(extent_file=str(beheerregister.joinpath(invoerbestanden[\"modelgebied\"])))"
   ]
  },
  {
   "cell_type": "markdown",
   "metadata": {},
   "source": [
    "### Toevoegen waterlopen\n",
    "\n",
    "De waterlopen (branches) worden toegevoegd met volgend code-blok:\n",
    "* de branches worden toegekend aan het hydamo-object\n",
    "* een HyDAMO ruwheidscode (4 = manning) wordt toegekend\n",
    "* de eindpunten van de branches worden gesnapped binnen een tolerantie van 1m. De coordinaten worden ook afgerond op 1m."
   ]
  },
  {
   "cell_type": "code",
   "execution_count": 3,
   "metadata": {},
   "outputs": [],
   "source": [
    "# gdf = gpd.read_file(beheerregister.joinpath(invoerbestanden[\"branches\"]))\n",
    "# gdf.columns = gdf.columns.str.lower()\n",
    "# print(gdf.columns)\n",
    "\n",
    "gdf = hydrotools.read_file(beheerregister.joinpath(invoerbestanden[\"branches\"]),\n",
    "                           hydamo_attribute=\"branches\",\n",
    "                           index_col=\"ovkident\",\n",
    "                           keep_columns=[\"code\",\n",
    "                                         \"bodembreedte\",\n",
    "                                         \"bodemhoogte\",\n",
    "                                         \"bovenbreedte\",\n",
    "                                         \"taludhellinglinkerzijde\",\n",
    "                                         \"avvtalur\",\n",
    "                                         \"taludhellingrechterzijde\",\n",
    "                                         \"werkcode\",\n",
    "                                         \"objectid\"],\n",
    "                           column_mapping={\"ovkident\": \"code\",\n",
    "                                           \"avvboddr\": \"bodembreedte\",\n",
    "                                           \"avvhobos\": \"bodemhoogte\",\n",
    "                                           \"iws_bovenb\": \"bovenbreedte\",\n",
    "                                           \"avvtalul\": \"taludhellinglinkerzijde\",\n",
    "                                           \"avvtalur\": \"taludhellingrechterzijde\"}\n",
    "                           )\n",
    "\n",
    "gdf.loc[:, \"ruwheidstypecode\"] = 2\n",
    "gdf.loc[:, \"ruwheidswaarde\"] = gdf.apply((lambda x: ruwheid_mapping[x[\"werkcode\"]]), axis=1)\n",
    "\n",
    "#print(beheerregister.joinpath(invoerbestanden[\"branches\"]))\n",
    "#print(\"kolommen in geodataframe: \" + gdf.columns)\n",
    "\n",
    "#hydamo.branches = hydrotools.snap_ends(hydamo.branches, tolerance=1, digits=1)\n",
    "\n",
    "# verplaatsen eindpunten\n",
    "#move_lines_gdf = gpd.read_file(data_path.joinpath(\"shp\",\"verplaats_eind_nodes.shp\"))\n",
    "#gdf = hydrotools.move_end_nodes(gdf, move_lines_gdf, threshold=1)\n",
    "\n",
    "hydamo.branches.set_data(gdf, index_col=\"code\", check_columns=True, check_geotype=True)\n",
    "\n",
    "#hydamo.branches = hydrotools.snap_ends(hydamo.branches, tolerance=1, digits=1)\n",
    "\n",
    "#hydamo.branches = hydamo.branches.loc[~hydamo.branches.index.isin([\"OAF016902\",\n",
    " #                                                                  \"OAF016901\"])]"
   ]
  },
  {
   "cell_type": "markdown",
   "metadata": {},
   "source": [
    "### Aanmaken laterale instroompunten RR"
   ]
  },
  {
   "cell_type": "code",
   "execution_count": null,
   "metadata": {},
   "outputs": [],
   "source": [
    "# Laterals (imported from shapefile)\n",
    "hydamo.laterals.read_shp(os.path.join(data_path,'data/shp/1DLateralInflowPoints.shp'),\n",
    "                        column_mapping={'OBJECTID': 'code',\n",
    "                                        'OBJECTID': 'name',\n",
    "                                        'X':'X',\n",
    "                                        'Y':'Y'})\n",
    "hydamo.laterals.snap_to_branch(hydamo.branches, snap_method='overal', maxdist=  500)\n",
    "hydamo.laterals.dropna(axis=0, inplace=True, subset=['branch_offset'])\n"
   ]
  },
  {
   "cell_type": "markdown",
   "metadata": {},
   "source": [
    "### Aanmaken principeprofielen\n",
    "Als terugvaloptie voor branches zonder profielen schrijven we principeprofielen weg die we later in deze notebook gebruiken"
   ]
  },
  {
   "cell_type": "code",
   "execution_count": 4,
   "metadata": {},
   "outputs": [],
   "source": [
    "principe_profielen_df = hydrotools.get_trapeziums(gdf,\n",
    "                                                  \"code\",\n",
    "                                                  \"bodembreedte\",\n",
    "                                                  \"bodemhoogte\",\n",
    "                                                  \"bovenbreedte\",\n",
    "                                                  \"taludhellinglinkerzijde\",\n",
    "                                                  \"taludhellingrechterzijde\",\n",
    "                                                  \"ruwheidstypecode\",\n",
    "                                                  \"ruwheidswaarde\")\n",
    "\n",
    "principe_profielen_df.to_csv(excelbestanden.joinpath(\"principe_profielen.csv\"))"
   ]
  },
  {
   "cell_type": "markdown",
   "metadata": {},
   "source": [
    "### Toevoegen yz-profielen\n",
    "De yz-profielen worden ingeladen:\n",
    "* De profielpunten worden geopend\n",
    "* de punten worden geordend en geconverteerd naar polylinen met een xyz coordinaten\n",
    "* toekennen ruwheid (manning = 35)\n",
    "* lijnen langer dan 500m worden weggegooid, omdat er soms kademuren PRO_TYPE = PRO hebben gekregen\n",
    "* lijnen worden toegekend aan het HyDAMO object\n",
    "* lijnen die niet snappen met de branches, worden weggegooid\n",
    "\n",
    "ToDo:\n",
    "* verbeteren toekenning ruwheid"
   ]
  },
  {
   "cell_type": "code",
   "execution_count": 5,
   "metadata": {},
   "outputs": [
    {
     "name": "stdout",
     "output_type": "stream",
     "text": [
      "0          20030408-7\n",
      "5          20030404-5\n",
      "7          20030312-7\n",
      "8          20030310-9\n",
      "9          20030211-3\n",
      "            ...      \n",
      "3980    DP20151028-11\n",
      "3982    DP20151028-15\n",
      "3985    DP20151028-12\n",
      "3986    DP20151028-11\n",
      "3987    DP20151028-11\n",
      "Name: code, Length: 2371, dtype: object\n",
      "Waarschuwing: 20060329-1372 bevat slechts één punt\n",
      "Waarschuwing: 20060329-1373 bevat slechts één punt\n",
      "Waarschuwing: DP20130329-36 bevat slechts één punt\n",
      "Waarschuwing: DP20140224-06 bevat slechts één punt\n",
      "Waarschuwing: DP20151026-21 bevat slechts één punt\n",
      "Waarschuwing: LT0196180904113302 bevat slechts één punt\n"
     ]
    }
   ],
   "source": [
    "gdf = hydrotools.read_file(beheerregister.joinpath(invoerbestanden[\"profielpunten\"]),\n",
    "                           \"crosssections\",\n",
    "                           attribute_filter={\"osmomsch\": [\"Z1\"]},  #we nemen alleen profielen van het type Z1 (vaste bodem) \n",
    "                           column_mapping={\"CODE\": \"code\",\n",
    "                                           \"IWS_VOLGNR\": \"order\",\n",
    "                                           \"OSMOMSCH\": \"category\",\n",
    "                                           \"iws_hoogte\": \"z\"},\n",
    "                           z_coord=True\n",
    "                           )\n",
    "print(gdf[\"code\"])\n",
    "grouper = gdf.groupby(\"code\")\n",
    "profiles = dict()\n",
    "\n",
    "for code, prof_gdf in grouper:\n",
    "    if len(prof_gdf) > 1: \n",
    "        prof_gdf = prof_gdf.sort_values(\"order\")  #Staan ook punten met zelfde order\n",
    "        first_point = prof_gdf.iloc[0][\"geometry\"]\n",
    "        cum_dist = -1\n",
    "        line = []\n",
    "        for idx, (_, row) in enumerate(prof_gdf.iterrows()):\n",
    "            geom = row[\"geometry\"]\n",
    "            distance = geom.distance(first_point)\n",
    "            if distance > cum_dist:\n",
    "                cum_dist = distance\n",
    "                line += [(geom.x, geom.y, row[\"z\"])]\n",
    "\n",
    "        profiles[code] = [code, LineString(line)]\n",
    "    else:\n",
    "        print(f\"Waarschuwing: {code} bevat slechts één punt\")\n",
    "profiles_gdf = gpd.GeoDataFrame.from_dict(profiles,\n",
    "                                          orient=\"index\",\n",
    "                                          columns=[\"code\",\n",
    "                                                   \"geometry\"]\n",
    "                                          )\n",
    "\n",
    "profiles_gdf[\"ruwheidstypecode\"] = 4\n",
    "profiles_gdf[\"ruwheidswaarde\"] = 35\n",
    "profiles_gdf[\"codegerelateerdobject\"] = None\n",
    "\n",
    "profiles_gdf = profiles_gdf.loc[profiles_gdf[\"geometry\"].length < 500]\n",
    "\n",
    "hydamo.crosssections.set_data(profiles_gdf,\n",
    "                              index_col=\"code\",\n",
    "                              check_columns=True,\n",
    "                              check_geotype=True)\n",
    "\n",
    "hydamo.crosssections.snap_to_branch(hydamo.branches, snap_method=\"intersecting\")\n",
    "hydamo.crosssections.dropna(axis=0, inplace=True, subset=[\"branch_offset\"])"
   ]
  },
  {
   "cell_type": "markdown",
   "metadata": {},
   "source": [
    "### Toevoegen geparameteriseerde profielen\n",
    "\n",
    "Per brug moet er een profiel worden toegevoegd"
   ]
  },
  {
   "cell_type": "code",
   "execution_count": 6,
   "metadata": {
    "code_folding": []
   },
   "outputs": [],
   "source": [
    "gdf = hydrotools.read_file(beheerregister.joinpath(invoerbestanden[\"bruggen\"]),\n",
    "                           \"parametrised_profiles\",\n",
    "                           column_mapping={\n",
    "                                           \"KBRIDENT\":\"code\",\n",
    "                                           \"KBRBHBO\": \"bodemhoogtebovenstrooms\",\n",
    "                                           \"KBRBHBE\": \"bodemhoogtebenedenstrooms\",\n",
    "                                           \"KBRBREED\": \"bodembreedte\",\n",
    "                                           \"KBRHOBO\": \"hoogteinsteeklinkerzijde\",\n",
    "                                           })\n",
    "\n",
    "grouper = gdf.groupby(\"code\")\n",
    "data = {\"code\": [code for code, frame in grouper],\n",
    "        \"bodemhoogtebovenstrooms\": [frame[\"bodemhoogtebovenstrooms\"].values[0]\n",
    "                                    for code, frame in grouper],\n",
    "        \"bodemhoogtebenedenstrooms\": [frame[\"bodemhoogtebenedenstrooms\"].values[0]\n",
    "                                      for code, frame in grouper],\n",
    "        \"bodembreedte\": [frame[\"bodembreedte\"].values[0]\n",
    "                         for code, frame in grouper],\n",
    "        \"hoogteinsteeklinkerzijde\": [frame[\"hoogteinsteeklinkerzijde\"].values[0]\n",
    "                                     for code, frame in grouper],\n",
    "        \"geometry\": [frame[\"geometry\"].values[0] for code, frame in grouper]\n",
    "        }\n",
    "\n",
    "gdf = gpd.GeoDataFrame(data)\n",
    "gdf[\"geometry\"] = gdf.apply((lambda x: LineString([[x[\"geometry\"].x,\n",
    "                                                    x[\"geometry\"].y],\n",
    "                                                  [x[\"geometry\"].x+1,\n",
    "                                                   x[\"geometry\"].y+1]])),\n",
    "                            axis=1)\n",
    "\n",
    "gdf[\"codegerelateerdobject\"] = gdf[\"code\"].copy()\n",
    "gdf[\"code\"] = [f\"PRO_{code}\" for code in gdf[\"code\"]]\n",
    "gdf[\"hoogteinsteekrechterzijde\"] = gdf[\"hoogteinsteeklinkerzijde\"]\n",
    "gdf[\"ruwheidswaarde\"] = 15\n",
    "gdf[\"ruwheidstypecode\"] = 4\n",
    "gdf[\"taludhellinglinkerzijde\"] = 1\n",
    "gdf[\"taludhellingrechterzijde\"] = 1\n",
    "\n",
    "#vervang nan-waarde voor bodembreedte door  defaultwaarde 1\n",
    "gdf.loc[gdf[\"bodembreedte\"].isna(), \"bodembreedte\"] = 1\n",
    "\n",
    "hydamo.parametrised_profiles.set_data(gdf,\n",
    "                                      index_col=\"code\",\n",
    "                                      check_columns=True,\n",
    "                                      check_geotype=False)"
   ]
  },
  {
   "cell_type": "markdown",
   "metadata": {},
   "source": [
    "### Toevoegen bruggen\n",
    "Per brug moet er een profiel worden toegevoegd"
   ]
  },
  {
   "cell_type": "code",
   "execution_count": 7,
   "metadata": {},
   "outputs": [],
   "source": [
    "gdf = hydrotools.read_file(beheerregister.joinpath(invoerbestanden[\"bruggen\"]),\n",
    "                           \"bridges\",\n",
    "                           column_mapping={\n",
    "                                           \"KBRIDENT\":\"code\",\n",
    "                                           \"KBRLENGT\": \"lengte\",\n",
    "                                           \"KBRHOBO\": \"hoogteonderzijde\"})\n",
    "\n",
    "grouper = gdf.groupby(\"code\")\n",
    "data = {\"code\": [code for code, frame in grouper],\n",
    "        \"hoogteonderzijde\": [frame[\"hoogteonderzijde\"].values[0] for code,\n",
    "                             frame in grouper],\n",
    "        \"lengte\": [frame[\"lengte\"].values[0] for code, frame in grouper],\n",
    "        \"geometry\": [frame[\"geometry\"].values[0] for code, frame in grouper]\n",
    "        }\n",
    "gdf = gpd.GeoDataFrame(data)\n",
    "\n",
    "gdf[\"hoogtebovenzijde\"] = gdf[\"hoogteonderzijde\"] + 1\n",
    "\n",
    "gdf[\"dwarsprofielcode\"] = gdf[\"code\"]\n",
    "gdf[\"intreeverlies\"] = 0.7\n",
    "gdf[\"uittreeverlies\"] = 0.7\n",
    "gdf[\"ruwheidstypecode\"] = 4\n",
    "gdf[\"ruwheidswaarde\"] = 70\n",
    "\n",
    "hydamo.bridges.set_data(gdf, index_col=\"code\", check_columns=True, check_geotype=False)\n",
    "hydamo.bridges.snap_to_branch(hydamo.branches, snap_method=\"overal\", maxdist=5)\n",
    "hydamo.bridges.dropna(axis=0, inplace=True, subset=[\"branch_offset\"])"
   ]
  },
  {
   "cell_type": "markdown",
   "metadata": {},
   "source": [
    "### Toevoegen duikers en siphons\n",
    "duikers en sifons worden als cuverts aan het HyDAMO object toegekend\n",
    "\n",
    "ToDo\n",
    "* vorm moet naar HyDAMO codering worden omgeschreven"
   ]
  },
  {
   "cell_type": "code",
   "execution_count": 8,
   "metadata": {},
   "outputs": [],
   "source": [
    "culverts_gdf = hydrotools.read_file(beheerregister.joinpath(invoerbestanden[\"duikers\"]),\n",
    "                                    \"culverts\",\n",
    "                                    column_mapping={\n",
    "                                                    \"KDUIDENT\": \"code\",\n",
    "                                                    \"KDULENGT\": \"lengte\",\n",
    "                                                    \"KDUHGA1\": \"hoogteopening\",\n",
    "                                                    \"KDUBREED\": \"breedteopening\",\n",
    "                                                    \"KDUBOKBE\": \"hoogtebinnenonderkantbenedenstrooms\",\n",
    "                                                    \"KDUBOKBO\": \"hoogtebinnenonderkantbovenstrooms\",\n",
    "                                                    \"KDUVORM\": \"vormcode\"})\n",
    "\n",
    "siphons_gdf = hydrotools.read_file(beheerregister.joinpath(invoerbestanden[\"sifons\"]),\n",
    "                                   \"culverts\",\n",
    "                                   column_mapping={\n",
    "                                                   \"KSYIDENT\": \"code\",\n",
    "                                                   \"IWS_LENGTE\": \"lengte\",\n",
    "                                                   \"KSYHGA1\": \"hoogteopening\",\n",
    "                                                   \"KSYBREED\": \"breedteopening\",\n",
    "                                                   \"IWS_HBOKBE\":\"hoogtebinnenonderkantbenedenstrooms\",\n",
    "                                                   \"IWS_HBOKBO\":\"hoogtebinnenonderkantbovenstrooms\",\n",
    "                                                   \"KSYVORM\":\"vormcode\"})\n",
    "\n",
    "gdf = gpd.GeoDataFrame(pd.concat([culverts_gdf,siphons_gdf], ignore_index=True))\n",
    "\n",
    "gdf.loc[gdf['vormcode'].isnull(), 'vormcode'] = 'onbekend'\n",
    "gdf.loc[:, 'vormcode'] = gdf.apply((lambda x: vorm_mapping[x['vormcode'].lower()]), axis=1)\n",
    "\n",
    "gdf[\"intreeverlies\"] = 0.7\n",
    "gdf[\"uittreeverlies\"] = 0.7\n",
    "gdf[\"ruwheidswaarde\"] = 70\n",
    "gdf[\"ruwheidstypecode\"] = 4\n",
    "\n",
    "hydamo.culverts.set_data(gdf, index_col=\"code\", check_columns=True, check_geotype=True)\n",
    "hydamo.culverts.snap_to_branch(hydamo.branches, snap_method=\"ends\", maxdist=5)\n",
    "hydamo.culverts.dropna(axis=0, inplace=True, subset=[\"branch_offset\"])\n",
    "\n",
    "hydamo.culverts.loc[hydamo.culverts[\"hoogteopening\"].isna(), \"hoogteopening\"] = 0.5\n",
    "hydamo.culverts.loc[hydamo.culverts[\"breedteopening\"].isna(), \"breedteopening\"] = 0.5\n",
    "hydamo.culverts.loc[hydamo.culverts[\"lengte\"].isna(), \"lengte\"] = 20\n"
   ]
  },
  {
   "cell_type": "markdown",
   "metadata": {},
   "source": [
    "### Toevoegen stuwen"
   ]
  },
  {
   "cell_type": "code",
   "execution_count": 9,
   "metadata": {},
   "outputs": [],
   "source": [
    "gdf = hydrotools.read_file(beheerregister.joinpath(invoerbestanden[\"stuwen\"]),\n",
    "                           \"weirs\",\n",
    "                           column_mapping={\"kstident\": \"code\",\n",
    "                                           \"kstsoort\": \"soortstuwcode\",\n",
    "                                           \"kstkrubr\": \"laagstedoorstroombreedte\",\n",
    "                                           \"kstmikho\": \"laagstedoorstroomhoogte\",\n",
    "                                           \"kstregel\": \"soortregelbaarheidcode\"})\n",
    "\n",
    "gdf[\"afvoercoefficient\"] = 1\n",
    "\n",
    "hydamo.weirs.set_data(gdf, index_col=\"code\", check_columns=True, check_geotype=True)\n",
    "hydamo.weirs.snap_to_branch(hydamo.branches, snap_method=\"overal\", maxdist=10)\n",
    "hydamo.weirs.dropna(axis=0, inplace=True, subset=[\"branch_offset\"])"
   ]
  },
  {
   "cell_type": "markdown",
   "metadata": {},
   "source": [
    "### Toevoegen gemalen"
   ]
  },
  {
   "cell_type": "code",
   "execution_count": 10,
   "metadata": {},
   "outputs": [],
   "source": [
    "pumps_gdf = hydrotools.read_file(beheerregister.joinpath(invoerbestanden[\"gemalen\"]),\n",
    "                                 \"pumps\",\n",
    "                                 column_mapping={\n",
    "                                     \"KGMIDENT\": \"code\",\n",
    "                                     \"KGMMACAP\": \"maximalecapaciteit\"})\n",
    "\n",
    "gemalen_gdf = pumps_gdf.copy()\n",
    "pumps_gdf[\"codegerelateerdobject\"] = pumps_gdf[\"code\"].copy()\n",
    "pumps_gdf[\"code\"] = [f\"PMP_{code}\" for code in pumps_gdf[\"code\"]]\n",
    "hydamo.gemalen.set_data(gemalen_gdf,\n",
    "                        index_col=\"code\",\n",
    "                        check_columns=True,\n",
    "                        check_geotype=True)\n",
    "hydamo.gemalen.snap_to_branch(hydamo.branches, snap_method=\"overal\", maxdist=5)\n",
    "hydamo.gemalen.dropna(axis=0, inplace=True, subset=[\"branch_offset\"])\n",
    "hydamo.pumps.set_data(pumps_gdf,\n",
    "                      index_col=\"code\",\n",
    "                      check_columns=True,\n",
    "                      check_geotype=True)\n",
    "hydamo.pumps.snap_to_branch(hydamo.branches, snap_method=\"overal\", maxdist=5)\n",
    "hydamo.pumps.dropna(axis=0, inplace=True, subset=[\"branch_offset\"])"
   ]
  },
  {
   "cell_type": "markdown",
   "metadata": {},
   "source": [
    "### Toevoegen afsluitmiddelen"
   ]
  },
  {
   "cell_type": "code",
   "execution_count": 11,
   "metadata": {},
   "outputs": [],
   "source": [
    "gdf = pd.DataFrame({\"code\": [],\n",
    "                    \"soortafsluitmiddelcode\": [],\n",
    "                    \"codegerelateerdobject\": []})\n",
    "\n",
    "hydamo.afsluitmiddel.set_data(gdf, index_col=\"code\")"
   ]
  },
  {
   "cell_type": "markdown",
   "metadata": {},
   "source": [
    "### Toevoegen sturing"
   ]
  },
  {
   "cell_type": "code",
   "execution_count": 12,
   "metadata": {},
   "outputs": [],
   "source": [
    "gpg_gdf = hydrotools.read_file(beheerregister.joinpath(invoerbestanden[\"peilgebieden\"]),\n",
    "                                 \"sturing\",\n",
    "                                 column_mapping={\"GPGIDENT\": \"code\",\n",
    "                                                 \"GPGZMRPL\": \"streefwaarde\"\n",
    "                                                 })\n",
    "\n",
    "gpg_gdf[\"codegerelateerdobject\"] = [code.replace(\"GPG\", \"\") for code in gpg_gdf[\"code\"]]\n",
    "gpg_gdf = gpg_gdf[gpg_gdf[\"codegerelateerdobject\"].isin(hydamo.gemalen[\"code\"])]\n",
    "con_gdf = hydamo.gemalen[~hydamo.gemalen[\"code\"].isin(gpg_gdf[\"codegerelateerdobject\"])]\n",
    "con_gdf = gpd.GeoDataFrame(data={\"code\": con_gdf[\"code\"].values,\n",
    "                                 \"geometry\": con_gdf[\"geometry\"].values})\n",
    "con_gdf[\"codegerelateerdobject\"] = con_gdf[\"code\"]\n",
    "con_gdf[\"streefwaarde\"] = -999\n",
    "\n",
    "gdf = gpd.GeoDataFrame(pd.concat([gpg_gdf, con_gdf], ignore_index=True))\n",
    "\n",
    "gdf[\"bovenmarge\"] = gdf[\"streefwaarde\"] + 0.05\n",
    "gdf[\"ondermarge\"] = gdf[\"streefwaarde\"] - 0.05\n",
    "gdf[\"doelvariabelecode\"] = 1\n",
    "\n",
    "hydamo.sturing.set_data(gdf, index_col=\"code\")"
   ]
  },
  {
   "cell_type": "markdown",
   "metadata": {},
   "source": [
    "### Filteren\n",
    "\n",
    "We maken een subset van branches op basis van waarden uit een gegeven veld. In dit geval worden alle takken waarvoor geldt OBJECTID = 1 opgenomen in de modelschematisatie. Idem voor alle kunstwerken + profielen die naar deze branches zijn gesnapped. Om het resultaat te beoordelen exporteren we alles naar shape-files. We slaan het hydamo object ook op als \"pickle\", zodat we bovenstaande stappen niet elke keer hoeven te herhalen"
   ]
  },
  {
   "cell_type": "code",
   "execution_count": 13,
   "metadata": {},
   "outputs": [],
   "source": [
    "hydamo = hydrotools.filter_model(hydamo, attribute_filter={\"OBJECTID\": 1})\n",
    "hydrotools.export_shapes(hydamo, path=Path(r\"./hydamo_shp/dellen\"))\n",
    "hydrotools.save_model(hydamo, file_name=Path(r\"./hydamo_model/dellen.pickle\"))\n"
   ]
  },
  {
   "cell_type": "markdown",
   "metadata": {},
   "source": [
    "## Converteren naar DFM\n",
    "\n",
    "### Aanmaken dfm-klasse"
   ]
  },
  {
   "cell_type": "code",
   "execution_count": 14,
   "metadata": {},
   "outputs": [],
   "source": [
    "dfmmodel = DFlowFMModel()"
   ]
  },
  {
   "cell_type": "markdown",
   "metadata": {},
   "source": [
    "### Inlezen kunstwerken"
   ]
  },
  {
   "cell_type": "code",
   "execution_count": 15,
   "metadata": {},
   "outputs": [
    {
     "name": "stdout",
     "output_type": "stream",
     "text": [
      "2021-06-08 17:07:11,179 - delft3dfmpy.converters.hydamo_to_dflowfm - hydamo_to_dflowfm - INFO - Currently only simple weirs can be applied. From Hydamo the attributes 'laagstedoorstroomhoogte' and 'kruinbreedte' are used to define the weir dimensions.\n"
     ]
    }
   ],
   "source": [
    "dfmmodel.structures.io.weirs_from_hydamo(hydamo.weirs,\n",
    "                                         yz_profiles=hydamo.crosssections,\n",
    "                                         parametrised_profiles=hydamo.parametrised_profiles)\n",
    "\n",
    "dfmmodel.structures.io.culverts_from_hydamo(hydamo.culverts,\n",
    "                                            hydamo.afsluitmiddel)\n",
    "\n",
    "dfmmodel.structures.io.bridges_from_hydamo(hydamo.bridges,\n",
    "                                           yz_profiles=hydamo.crosssections,\n",
    "                                           parametrised_profiles=hydamo.parametrised_profiles)\n",
    "\n",
    "dfmmodel.structures.io.orifices_from_hydamo(hydamo.orifices)\n",
    "\n",
    "dfmmodel.structures.io.pumps_from_hydamo(pompen=hydamo.pumps,\n",
    "                                         sturing=hydamo.sturing,\n",
    "                                         gemalen=hydamo.gemalen)"
   ]
  },
  {
   "cell_type": "markdown",
   "metadata": {},
   "source": [
    "### Aanmaken 1d netwerk"
   ]
  },
  {
   "cell_type": "code",
   "execution_count": 16,
   "metadata": {},
   "outputs": [
    {
     "name": "stdout",
     "output_type": "stream",
     "text": [
      "2021-06-08 17:07:11,371 - delft3dfmpy.core.dfm - dfm - WARNING - Some structures are not linked to a branch.\n",
      "2021-06-08 17:07:11,374 - delft3dfmpy.core.dfm - dfm - INFO - Added 1d mesh nodes on branch OAF-O-00002 at: [0.0, 11.2105, 44.941500000000005, 71.82240223650987], due to the structures at [-0.001, 0.36, 22.061, 67.822, 71.82340223650988].\n",
      "2021-06-08 17:07:11,375 - delft3dfmpy.core.dfm - dfm - INFO - Added 1d mesh nodes on branch OAF-O-00055 at: [0.0, 167.691, 243.7712895696411], due to the structures at [-0.001, 83.667, 164.841, 170.541, 243.77228956964112].\n",
      "2021-06-08 17:07:11,378 - delft3dfmpy.core.dfm - dfm - INFO - Added 1d mesh nodes on branch OAF-O-00059 at: [0.0, 525.8205, 985.2394999999999, 1046.7060000000001, 1083.9012346060038], due to the structures at [-0.001, 202.42, 317.606, 519.187, 532.454, 949.228, 1021.251, 1072.161, 1083.9022346060037].\n",
      "2021-06-08 17:07:11,380 - delft3dfmpy.core.dfm - dfm - INFO - Added 1d mesh nodes on branch OAF-O-00074 at: [0.0, 332.925, 384.41801394242833], due to the structures at [-0.001, 115.536, 296.141, 369.709, 384.4190139424283].\n",
      "2021-06-08 17:07:11,382 - delft3dfmpy.core.dfm - dfm - INFO - Added 1d mesh nodes on branch OAF-O-00075 at: [0.0, 64.714, 297.0985, 360.885, 402.4175, 952.8031065470943], due to the structures at [-0.001, 62.182, 67.246, 265.399, 328.798, 392.972, 411.863, 728.078, 952.8041065470943].\n",
      "2021-06-08 17:07:11,383 - delft3dfmpy.core.dfm - dfm - INFO - Added 1d mesh nodes on branch OAF-O-00076 at: [0.0, 457.21000000000004, 497.3560484101556], due to the structures at [-0.001, 427.504, 486.916, 497.3570484101556].\n",
      "2021-06-08 17:07:11,385 - delft3dfmpy.core.dfm - dfm - INFO - Added 1d mesh nodes on branch OAF-O-00078 at: [0.0, 48.5755, 331.1517882252236], due to the structures at [-0.001, 0.1, 97.051, 300.442, 331.15278822522356].\n",
      "2021-06-08 17:07:11,386 - delft3dfmpy.core.dfm - dfm - INFO - Added 1d mesh nodes on branch OAF-O-00080 at: [0.0, 55.610499999999995, 119.1555, 180.101, 223.986, 254.11065075130597], due to the structures at [-0.001, 31.621, 79.6, 158.711, 201.491, 246.481, 254.11165075130597].\n",
      "2021-06-08 17:07:11,387 - delft3dfmpy.core.dfm - dfm - INFO - Added 1d mesh nodes on branch OAF-O-00081 at: [0.0, 826.1179999999999, 874.6875598644649], due to the structures at [-0.001, 30.192, 392.479, 818.007, 834.229, 874.6885598644649].\n",
      "2021-06-08 17:07:11,388 - delft3dfmpy.core.dfm - dfm - INFO - Added 1d mesh nodes on branch OAF-O-00084 at: [0.0, 2.6395, 10.358564872092254], due to the structures at [-0.001, 0.1, 5.179, 10.359564872092253].\n",
      "2021-06-08 17:07:11,390 - delft3dfmpy.core.dfm - dfm - INFO - Added 1d mesh nodes on branch OAF-O-00088 at: [0.0, 48.612500000000004, 120.00900000000001, 279.3984293405456], due to the structures at [-0.001, 3.513, 93.712, 146.306, 279.39942934054557].\n",
      "2021-06-08 17:07:11,393 - delft3dfmpy.core.dfm - dfm - INFO - Added 1d mesh nodes on branch OAF-O-00098 at: [0.0, 340.03049999999996, 366.0524435722902], due to the structures at [-0.001, 334.938, 345.123, 366.0534435722902].\n",
      "2021-06-08 17:07:11,394 - delft3dfmpy.core.dfm - dfm - INFO - Added 1d mesh nodes on branch OAF-O-00102 at: [0.0, 187.022, 246.46230576615983, 271.19161153231965], due to the structures at [-0.001, 152.211, 221.833, 271.09161153231963, 271.19261153231963].\n",
      "2021-06-08 17:07:11,395 - delft3dfmpy.core.dfm - dfm - INFO - Added 1d mesh nodes on branch OAF-O-00103 at: [0.0, 65.5205, 648.2636811469906], due to the structures at [-0.001, 61.138, 69.903, 374.515, 648.2646811469906].\n",
      "2021-06-08 17:07:11,398 - delft3dfmpy.core.dfm - dfm - INFO - Added 1d mesh nodes on branch OAF-O-00104 at: [0.0, 253.41000000000003, 305.951, 466.355, 478.99049111882493], due to the structures at [-0.001, 6.0, 247.405, 259.415, 352.487, 461.72, 470.99, 478.9914911188249].\n",
      "2021-06-08 17:07:11,399 - delft3dfmpy.core.dfm - dfm - INFO - Added 1d mesh nodes on branch OAF-O-00106 at: [0.0, 1.7915, 583.2866240057081], due to the structures at [-0.001, 0.1, 3.483, 583.287624005708].\n",
      "2021-06-08 17:07:11,403 - delft3dfmpy.core.dfm - dfm - INFO - Added 1d mesh nodes on branch OAF-O-00115 at: [0.0, 567.5074999999999, 579.7032403973768], due to the structures at [-0.001, 561.388, 573.627, 579.7042403973768].\n",
      "2021-06-08 17:07:11,405 - delft3dfmpy.core.dfm - dfm - INFO - Added 1d mesh nodes on branch OAF-O-00123 at: [0.0, 621.5620527261544, 628.1131054523089], due to the structures at [-0.001, 615.111, 628.0131054523089, 628.1141054523089].\n",
      "2021-06-08 17:07:11,410 - delft3dfmpy.core.dfm - dfm - INFO - Added 1d mesh nodes on branch OAF-O-00141 at: [0.0, 480.4375, 522.3312056696134], due to the structures at [-0.001, 476.354, 484.521, 522.3322056696134].\n",
      "2021-06-08 17:07:11,411 - delft3dfmpy.core.dfm - dfm - INFO - Added 1d mesh nodes on branch OAF-O-00144 at: [0.0, 532.1255000000001, 554.7518472530799], due to the structures at [-0.001, 527.508, 536.743, 554.7528472530798].\n",
      "2021-06-08 17:07:11,412 - delft3dfmpy.core.dfm - dfm - INFO - Added 1d mesh nodes on branch OAF-O-00146 at: [0.0, 60.640499999999996, 140.43934766902026], due to the structures at [-0.001, 0.198, 121.083, 140.44034766902027].\n",
      "2021-06-08 17:07:11,416 - delft3dfmpy.core.dfm - dfm - INFO - Added 1d mesh nodes on branch OAF-O-00156 at: [0.0, 35.61, 74.18549999999999, 78.80015660036673], due to the structures at [-0.001, 0.382, 70.838, 77.533, 78.80115660036674].\n",
      "2021-06-08 17:07:11,418 - delft3dfmpy.core.dfm - dfm - INFO - Added 1d mesh nodes on branch OAF-O-00157 at: [0.0, 71.293, 79.51734885486735, 87.01969770973471], due to the structures at [-0.001, 70.471, 72.115, 86.91969770973472, 87.02069770973472].\n",
      "2021-06-08 17:07:11,422 - delft3dfmpy.core.dfm - dfm - INFO - Added 1d mesh nodes on branch OAF-O-00815 at: [0.0, 58.845, 128.09005177900627], due to the structures at [-0.001, 0.1, 117.59, 128.09105177900628].\n",
      "2021-06-08 17:07:11,423 - delft3dfmpy.core.dfm - dfm - INFO - Added 1d mesh nodes on branch OAF-O-00834 at: [0.0, 4.3975, 51.6535, 245.77393731499748], due to the structures at [-0.001, 2.0, 6.795, 96.512, 245.7749373149975].\n",
      "2021-06-08 17:07:11,428 - delft3dfmpy.core.dfm - dfm - INFO - Added 1d mesh nodes on branch OAF-O-00902 at: [0.0, 30.04, 90.7165, 160.369, 223.2095, 286.572, 355.62850000000003, 518.337, 547.5985000000001, 554.1638833912862], due to the structures at [-0.001, 10.522, 49.558, 131.875, 188.863, 257.556, 315.588, 395.669, 494.01, 542.664, 552.533, 554.1648833912861].\n",
      "2021-06-08 17:07:11,431 - delft3dfmpy.core.dfm - dfm - INFO - Added 1d mesh nodes on branch OAF-O-00957 at: [0.0, 221.44400000000002, 247.5970873977168], due to the structures at [-0.001, 206.193, 236.695, 247.5980873977168].\n",
      "2021-06-08 17:07:11,435 - delft3dfmpy.core.dfm - dfm - INFO - Added 1d mesh nodes on branch OAF-O-01042 at: [0.0, 23.267, 44.260999999999996, 81.199, 128.77808287618333, 142.22916575236667], due to the structures at [-0.001, 4.983, 41.551, 46.971, 115.427, 142.12916575236667, 142.23016575236667].\n",
      "2021-06-08 17:07:11,436 - delft3dfmpy.core.dfm - dfm - INFO - Added 1d mesh nodes on branch OAF-O-01043 at: [0.0, 165.1395, 170.62864748786117], due to the structures at [-0.001, 0.1, 161.629, 168.65, 170.62964748786118].\n",
      "2021-06-08 17:07:11,438 - delft3dfmpy.core.dfm - dfm - INFO - Added 1d mesh nodes on branch OAF-O-02383 at: [0.0, 56.6605, 95.52468010517553], due to the structures at [-0.001, 45.06, 68.261, 95.52568010517554].\n",
      "2021-06-08 17:07:11,441 - delft3dfmpy.core.dfm - dfm - INFO - Added 1d mesh nodes on branch OAF-O-02392 at: [0.0, 46.253, 65.00000788974283], due to the structures at [-0.001, 32.5, 60.006, 65.00100788974284].\n",
      "2021-06-08 17:07:11,444 - delft3dfmpy.core.dfm - dfm - WARNING - Structures KDU-O-03990, PMP_KGM-O-11730 have the same location.\n"
     ]
    }
   ],
   "source": [
    "dfmmodel.network.set_branches(hydamo.branches)\n",
    "dfmmodel.network.generate_1dnetwork(one_d_mesh_distance=100.0, seperate_structures=True)"
   ]
  },
  {
   "cell_type": "markdown",
   "metadata": {},
   "source": [
    "### Toevoegen cross-sections"
   ]
  },
  {
   "cell_type": "code",
   "execution_count": 17,
   "metadata": {},
   "outputs": [
    {
     "name": "stdout",
     "output_type": "stream",
     "text": [
      "2021-06-08 17:07:11,557 - delft3dfmpy.io.dfmreader - dfmreader - INFO - Before adding the number of branches without cross section is: 172.\n",
      "2021-06-08 17:07:11,731 - delft3dfmpy.io.dfmreader - dfmreader - INFO - After adding 'dwarsprofielen' the number of branches without cross section is: 52.\n",
      "No parametrised crossections available for branches.\n",
      "2021-06-08 17:07:11,733 - delft3dfmpy.io.dfmreader - dfmreader - INFO - Before adding the number of structures without cross section is: 7.\n",
      "2021-06-08 17:07:11,749 - delft3dfmpy.io.dfmreader - dfmreader - INFO - After adding 'dwarsprofielen' the number of branches without cross section is: 7.\n",
      "2021-06-08 17:07:11,788 - delft3dfmpy.io.dfmreader - dfmreader - INFO - After adding 'normgeparametriseerd' the number of structures without cross section is: 0.\n",
      "52 branches are still missing a cross section.\n",
      "0 structures are still missing a cross section.\n"
     ]
    }
   ],
   "source": [
    "dfmmodel.crosssections.io.from_hydamo(\n",
    "    dwarsprofielen=hydamo.crosssections,\n",
    "    parametrised=hydamo.parametrised_profiles,\n",
    "    branches=hydamo.branches\n",
    ")\n",
    "\n",
    "print(f\"{len(dfmmodel.crosssections.get_branches_without_crosssection())} branches are still missing a cross section.\")\n",
    "print(f\"{len(dfmmodel.crosssections.get_structures_without_crosssection())} structures are still missing a cross section.\")"
   ]
  },
  {
   "cell_type": "markdown",
   "metadata": {},
   "source": [
    "### Toevoegen principeprofielen op takken die nog niet over een profiel beschikken"
   ]
  },
  {
   "cell_type": "code",
   "execution_count": 18,
   "metadata": {},
   "outputs": [
    {
     "name": "stdout",
     "output_type": "stream",
     "text": [
      "adding trapezium profiles on branches with missing crosssections.\n"
     ]
    }
   ],
   "source": [
    "if len(dfmmodel.crosssections.get_branches_without_crosssection()) > 0:\n",
    "    print(\"adding trapezium profiles on branches with missing crosssections.\")\n",
    "    dfmmodel = hydrotools.add_trapeziums(dfmmodel, principe_profielen_df)"
   ]
  },
  {
   "cell_type": "code",
   "execution_count": 19,
   "metadata": {},
   "outputs": [],
   "source": [
    "###Toevoegen randvoorwaarden"
   ]
  },
  {
   "cell_type": "code",
   "execution_count": 20,
   "metadata": {},
   "outputs": [],
   "source": [
    "rvw_df = pd.read_excel(excelbestanden.joinpath(modelbestanden[\"randvoorwaarden\"]))\n",
    "\n",
    "for _,row in rvw_df.iterrows():\n",
    "    branch_id = row[\"BRANCH_ID\"]\n",
    "    pt = hydamo.branches.loc[branch_id][\"geometry\"].coords[int(row[\"COORD\"])]\n",
    "    series = pd.Series(data=[-4.0, -4.0],\n",
    "                       index=[pd.Timestamp(\"2000-01-01\"),\n",
    "                              pd.Timestamp(\"2100-01-01\")]\n",
    "                       )"
   ]
  },
  {
   "cell_type": "markdown",
   "metadata": {},
   "source": [
    "### Wegschrijven model"
   ]
  },
  {
   "cell_type": "code",
   "execution_count": 21,
   "metadata": {},
   "outputs": [
    {
     "name": "stdout",
     "output_type": "stream",
     "text": [
      "Model is weggeschreven\n"
     ]
    }
   ],
   "source": [
    "dfmmodel.mdu_parameters[\"refdate\"] = 20000101\n",
    "dfmmodel.mdu_parameters[\"tstart\"] = 0.0 * 3600\n",
    "dfmmodel.mdu_parameters[\"tstop\"] = 144.0 * 1 * 3600\n",
    "dfmmodel.mdu_parameters[\"hisinterval\"] = \"120. 0. 0.\"\n",
    "dfmmodel.mdu_parameters[\"cflmax\"] = 0.7\n",
    "\n",
    "dimr_path = r\"dummypath\\run_dimr.bat\"\n",
    "dfmmodel.dimr_path = dimr_path\n",
    "fm_writer = DFlowFMWriter(dfmmodel, output_dir=\"dellen\", name=\"dellen\")\n",
    "\n",
    "fm_writer.objects_to_ldb()\n",
    "fm_writer.write_all()\n",
    "\n",
    "if Path(r\".\\dellen\\fm\\dellen.mdu\").exists():\n",
    "    print(\"Model is weggeschreven\")\n",
    "else:\n",
    "    print(\"Er is geen model geschreven. Waarschijnlijk is iets fout gegaan\")"
   ]
  },
  {
   "cell_type": "markdown",
   "metadata": {},
   "source": [
    "## Importeren in de D-Hydro suite\n",
    "\n",
    "Open het model nu in D-Hydro:\n",
    "1. Open een \"Empty Project\"\n",
    "2. In de \"Home\" ribbon, ga naar \"Import\" en selecteer \"Flow Flexible Mesh Model\"\n",
    "3. Selecteer het bestand \"boezemmodel.mdu\" in \".\\dfm_model\\fm\\boezemmodel.mdu\"\n",
    "4. Wacht tot het model is geimporteerd.....\n",
    "\n",
    "Het geimporteerde model is nu zichtbaar in de D-Hydro suite\n",
    "<img src=\"png/boezemmodel.png\"/>"
   ]
  },
  {
   "cell_type": "code",
   "execution_count": null,
   "metadata": {},
   "outputs": [],
   "source": []
  },
  {
   "cell_type": "code",
   "execution_count": null,
   "metadata": {},
   "outputs": [],
   "source": []
  },
  {
   "cell_type": "code",
   "execution_count": null,
   "metadata": {},
   "outputs": [],
   "source": []
  },
  {
   "cell_type": "code",
   "execution_count": null,
   "metadata": {},
   "outputs": [],
   "source": []
  }
 ],
 "metadata": {
  "kernelspec": {
   "display_name": "Python 3",
   "language": "python",
   "name": "python3"
  },
  "language_info": {
   "codemirror_mode": {
    "name": "ipython",
    "version": 3
   },
   "file_extension": ".py",
   "mimetype": "text/x-python",
   "name": "python",
   "nbconvert_exporter": "python",
   "pygments_lexer": "ipython3",
   "version": "3.7.10"
  }
 },
 "nbformat": 4,
 "nbformat_minor": 4
}
