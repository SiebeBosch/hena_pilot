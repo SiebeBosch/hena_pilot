{
 "cells": [
  {
   "cell_type": "markdown",
   "metadata": {},
   "source": [
    "# D-Hydro De Dellen V1\n",
    "\n",
    "## Introductie\n",
    "\n",
    "Met dit notebook bouw je een 1D D-hydromodel voor Stroomgebied De Dellen in het beheergebied van waterschap Hunze en Aa's.\n",
    "\n",
    "Zorg dat je beschikt over een werkende Python installatie en <a href=\"https://github.com/openearth/delft3dfmpy#installation\">D-HYDAMO omgeving</a>. Het resulterende model moet geimporteerd kunnen worden in D-HYDRO versie 0.9.7.52006 of hoger.\n",
    "\n",
    "De verwijzing naar bestanden is geschreven in het Nederlands. De rest van de code is geschreven in het Engels. Elk code-blok is voorzien van uitleg boven het desbetreffende blok, geschreven in het Nederlands.\n",
    "\n",
    "Werkwijze:\n",
    "- Download alle projectbestanden van deze Git en plaats ze in een projectmap op de schijf.\n",
    "- Download de bestanden met gegevens uit het <a href=\"https://www.dropbox.com/s/84bxohuw7tllrga/beheerregister_adjusted.zip?dl=0\">beheerregister</a> en zet deze in de folder .\\beheerregister_adjusted binnen het project\n",
    "- Download de bestanden met <a href=\"https://www.dropbox.com/s/k9dqouu62mqz9bu/data.zip?dl=0\">boundaries en laterale instroming</a> en zet deze in de folder .\\data binnen het project\n",
    "- Zorg voor de werkende Delft3DFMPY-omgeving zoals in de aanhef omschreven.\n",
    "- Activeer de Delft3DFMPY-omgeving als volgt: start een Anaconda Prompt via het startmenu (een console-window)\n",
    "- Navigeer naar het project met de 'good old' DOS-commando's cd (change directory)\n",
    "- Voer het commando conda activate delft3dfmpy uit\n",
    "- Om straks de XLSX-bestanden (boundaries) te kunnen uitlezen is openpyxl nodig: conda install openpyxl. Dit commando moet uitgevoerd worden binnen de delft3dfmpy-environment. Vandaar dat deze stap hier komt.\n",
    "- Start nu het Jupyter Notebook met het commando Jupyter notebook.\n",
    "- In de webbrowser verschijnt nu een pagina met een overzicht van de projectbestanden. Klik nu op modelbouw.ipynb om dit notebook te openen."
   ]
  },
  {
   "cell_type": "markdown",
   "metadata": {},
   "source": [
    "# Controle bestanden\n",
    "\n",
    "Alle bestanden die gebruikt worden in deze tutorial staan in het code-blok hieronder. Wanneer je dit codeblok uitvoert wordt de aanwezigheid van deze bestanden gecontroleerd.\n",
    "\n"
   ]
  },
  {
   "cell_type": "code",
   "execution_count": 1,
   "metadata": {},
   "outputs": [
    {
     "name": "stdout",
     "output_type": "stream",
     "text": [
      "Paden succesvol ingesteld.\n"
     ]
    }
   ],
   "source": [
    "from pathlib import Path\n",
    "\n",
    "data_path = Path(r\".\\data\").absolute().resolve()\n",
    "excelbestanden = data_path.joinpath(\"xlsx\")\n",
    "\n",
    "#het pad naar beheerregister_adjusted bevat de bronbestanden die al obv Channel Builder oordeel zijn verbeterd\n",
    "beheerregister = Path(r\".\\beheerregister_adjusted\").absolute().resolve()\n",
    "\n",
    "#het pad naar beheerregister bevat de bronbestanden in onveranderde vorm en dus nog hiaten en fouten bevatten\n",
    "#beheerregister = Path(r\".\\beheerregister\").absolute().resolve()\n",
    "\n",
    "modelbestanden = {\"randvoorwaarden\":\"randvoorwaarden.xlsx\"}\n",
    "\n",
    "invoerbestanden = {\"modelgebied\": \"DeDellen_gebiedsgrens.shp\",\n",
    "                   \"branches\": \"Hoofdwatergang_Dellen_singlepart.shp\",\n",
    "                   \"profielpunten\": \"profielpunten_Dellen.shp\",\n",
    "                   \"bruggen\": \"Brug_Dellen.shp\",\n",
    "                   \"duikers\": \"Duiker_Dellen.shp\",\n",
    "                   \"sifons\": \"Syphon_Dellen.shp\",\n",
    "                   \"stuwen\": \"Stuw_Dellen.shp\",\n",
    "                   \"inlaten\": \"Inlaat_Dellen.shp\",\n",
    "                   \"gemalen\": \"Gemaal_Dellen.shp\",\n",
    "                   \"peilgebieden\": \"Peilgebied_Dellen.shp\"}\n",
    "\n",
    "vorm_mapping = dict(rond=1,\n",
    "                    driehoekig=1,\n",
    "                    rechthoekig=3,\n",
    "                    eivormig=1,\n",
    "                    ellips=1,\n",
    "                    Paraboolvormig=1,\n",
    "                    trapeziumvormig=1,\n",
    "                    heul=1,\n",
    "                    muil=3,\n",
    "                    langwerpig=1,\n",
    "                    scherp=1,\n",
    "                    onbekend=99,\n",
    "                    overig=99)\n",
    "\n",
    "ruwheid_mapping = {\"A1\": 0.03,\n",
    "                   \"A2\": 0.03,\n",
    "                   \"A2 Boot\": 0.03,\n",
    "                   \"A3\": 0.03,\n",
    "                   \"B1\": 0.02,\n",
    "                   \"B2\": 0.022,\n",
    "                   \"C1\": 0.02,\n",
    "                   \"C2b\": 0.022,\n",
    "                   \"DERDEN\": 0.03,\n",
    "                   \"GEEN\": 0.07}\n",
    "\n",
    "for key, item in invoerbestanden.items():\n",
    "    if not beheerregister.joinpath(item).exists():\n",
    "        print(f\"bestand voor {key} bestaat niet: {beheerregister.joinpath(item)}\")\n",
    "        \n",
    "for key, item in modelbestanden.items():\n",
    "    if not excelbestanden.joinpath(item).exists():\n",
    "        print(f\"bestand voor {key} bestaat niet: {excelbestanden.joinpath(item)}\")\n",
    "        \n",
    "print(\"Paden succesvol ingesteld.\")"
   ]
  },
  {
   "cell_type": "markdown",
   "metadata": {},
   "source": [
    "## Inlezen beheerregister in HyDAMO\n",
    "\n",
    "### Aanmaken HyDAMO object\n",
    "\n",
    "Alle benodigde modules worden geimporteerd en het HYDAMO object wordt aangemaakt bij het uitvoeren van onderstaand code-blok"
   ]
  },
  {
   "cell_type": "code",
   "execution_count": null,
   "metadata": {},
   "outputs": [],
   "source": [
    "from delft3dfmpy import DFlowFMModel, HyDAMO, Rectangular, DFlowFMWriter\n",
    "from delft3dfmpy import DFlowRRModel, DFlowRRWriter\n",
    "from delft3dfmpy.datamodels.common import ExtendedGeoDataFrame\n",
    "import hydrotools\n",
    "import geopandas as gpd\n",
    "import pandas as pd\n",
    "from shapely.geometry import LineString\n",
    "\n",
    "hydamo = HyDAMO(extent_file=str(beheerregister.joinpath(invoerbestanden[\"modelgebied\"])))"
   ]
  },
  {
   "cell_type": "markdown",
   "metadata": {},
   "source": [
    "### Toevoegen waterlopen\n",
    "\n",
    "De waterlopen (branches) worden toegevoegd met volgend code-blok:\n",
    "* de branches worden toegekend aan het hydamo-object\n",
    "* een HyDAMO ruwheidscode (4 = manning) wordt toegekend\n",
    "* de eindpunten van de branches worden gesnapped binnen een tolerantie van 1m. De coordinaten worden ook afgerond op 1m."
   ]
  },
  {
   "cell_type": "code",
   "execution_count": null,
   "metadata": {},
   "outputs": [],
   "source": [
    "# gdf = gpd.read_file(beheerregister.joinpath(invoerbestanden[\"branches\"]))\n",
    "# gdf.columns = gdf.columns.str.lower()\n",
    "# print(gdf.columns)\n",
    "\n",
    "gdf = hydrotools.read_file(beheerregister.joinpath(invoerbestanden[\"branches\"]),\n",
    "                           hydamo_attribute=\"branches\",\n",
    "                           index_col=\"ovkident\",\n",
    "                           keep_columns=[\"code\",\n",
    "                                         \"bodembreedte\",\n",
    "                                         \"bodemhoogte_bov\",\n",
    "                                         \"bodemhoogte_ben\",\n",
    "                                         \"bovenbreedte\",\n",
    "                                         \"taludhellinglinkerzijde\",\n",
    "                                         \"avvtalur\",\n",
    "                                         \"taludhellingrechterzijde\",\n",
    "                                         \"werkcode\",\n",
    "                                         \"objectid\"],\n",
    "                           column_mapping={\"ovkident\": \"code\",\n",
    "                                           \"avvboddr\": \"bodembreedte\",\n",
    "                                           \"avvhobos\": \"bodemhoogte_bov\",\n",
    "                                           \"avvhobes\": \"bodemhoogte_ben\",\n",
    "                                           \"iws_bovenb\": \"bovenbreedte\",\n",
    "                                           \"avvtalul\": \"taludhellinglinkerzijde\",\n",
    "                                           \"avvtalur\": \"taludhellingrechterzijde\"}\n",
    "                           )\n",
    "\n",
    "gdf.loc[:, \"ruwheidstypecode\"] = 2\n",
    "gdf.loc[:, \"ruwheidswaarde\"] = gdf.apply((lambda x: ruwheid_mapping[x[\"werkcode\"]]), axis=1)\n",
    "\n",
    "#print(beheerregister.joinpath(invoerbestanden[\"branches\"]))\n",
    "#print(\"kolommen in geodataframe: \" + gdf.columns)\n",
    "\n",
    "#hydamo.branches = hydrotools.snap_ends(hydamo.branches, tolerance=1, digits=1)\n",
    "\n",
    "# verplaatsen eindpunten\n",
    "#move_lines_gdf = gpd.read_file(data_path.joinpath(\"shp\",\"verplaats_eind_nodes.shp\"))\n",
    "#gdf = hydrotools.move_end_nodes(gdf, move_lines_gdf, threshold=1)\n",
    "\n",
    "hydamo.branches.set_data(gdf, index_col=\"code\", check_columns=True, check_geotype=True)\n",
    "\n",
    "#hydamo.branches = hydrotools.snap_ends(hydamo.branches, tolerance=1, digits=1)\n",
    "\n",
    "#hydamo.branches = hydamo.branches.loc[~hydamo.branches.index.isin([\"OAF016902\",\n",
    " #                                                                  \"OAF016901\"])]"
   ]
  },
  {
   "cell_type": "markdown",
   "metadata": {},
   "source": [
    "### Aanmaken principeprofielen\n",
    "Als terugvaloptie voor branches zonder profielen schrijven we principeprofielen weg die we later in deze notebook gebruiken"
   ]
  },
  {
   "cell_type": "code",
   "execution_count": null,
   "metadata": {},
   "outputs": [],
   "source": [
    "principe_profielen_bov_df = hydrotools.get_trapeziums(gdf,\n",
    "                                                  \"code\",\n",
    "                                                  \"bodembreedte\",\n",
    "                                                  \"bodemhoogte_bov\",\n",
    "                                                  \"bovenbreedte\",\n",
    "                                                  \"taludhellinglinkerzijde\",\n",
    "                                                  \"taludhellingrechterzijde\",\n",
    "                                                  \"ruwheidstypecode\",\n",
    "                                                  \"ruwheidswaarde\")\n",
    "\n",
    "principe_profielen_ben_df = hydrotools.get_trapeziums(gdf,\n",
    "                                                  \"code\",\n",
    "                                                  \"bodembreedte\",\n",
    "                                                  \"bodemhoogte_ben\",\n",
    "                                                  \"bovenbreedte\",\n",
    "                                                  \"taludhellinglinkerzijde\",\n",
    "                                                  \"taludhellingrechterzijde\",\n",
    "                                                  \"ruwheidstypecode\",\n",
    "                                                  \"ruwheidswaarde\")\n",
    "\n",
    "principe_profielen_bov_df.to_csv(excelbestanden.joinpath(\"principe_profielen_bovenstrooms.csv\"))\n",
    "principe_profielen_ben_df.to_csv(excelbestanden.joinpath(\"principe_profielen_benedenstrooms.csv\"))"
   ]
  },
  {
   "cell_type": "markdown",
   "metadata": {},
   "source": [
    "### Aanmaken laterale instroompunten RR"
   ]
  },
  {
   "cell_type": "code",
   "execution_count": null,
   "metadata": {},
   "outputs": [],
   "source": [
    "hydamo.laterals.read_shp(beheerregister.joinpath(data_path,'shp/1DLateralInflowPoints.shp'),\n",
    "                         column_mapping={\"OBJECTID\":\"code\",\n",
    "                                        \"X\":\"X\",\n",
    "                                        \"Y\":\"Y\"})\n",
    "hydamo.laterals.snap_to_branch(hydamo.branches, snap_method='overal', maxdist=500)\n",
    "hydamo.laterals.dropna(axis=0, inplace=True, subset=['branch_offset'])\n",
    "     "
   ]
  },
  {
   "cell_type": "markdown",
   "metadata": {},
   "source": [
    "### Toevoegen yz-profielen\n",
    "De yz-profielen worden ingeladen:\n",
    "* De profielpunten worden geopend\n",
    "* de punten worden geordend en geconverteerd naar polylinen met een xyz coordinaten\n",
    "* toekennen ruwheid (manning = 35)\n",
    "* lijnen langer dan 500m worden weggegooid, omdat er soms kademuren PRO_TYPE = PRO hebben gekregen\n",
    "* lijnen worden toegekend aan het HyDAMO object\n",
    "* lijnen die niet snappen met de branches, worden weggegooid\n",
    "\n",
    "ToDo:\n",
    "* verbeteren toekenning ruwheid"
   ]
  },
  {
   "cell_type": "code",
   "execution_count": null,
   "metadata": {},
   "outputs": [],
   "source": [
    "gdf = hydrotools.read_file(beheerregister.joinpath(invoerbestanden[\"profielpunten\"]),\n",
    "                           \"crosssections\",\n",
    "                           attribute_filter={\"osmomsch\": [\"Z1\"]},  #we nemen alleen profielen van het type Z1 (vaste bodem) \n",
    "                           column_mapping={\"CODE\": \"code\",\n",
    "                                           \"IWS_VOLGNR\": \"order\",\n",
    "                                           \"OSMOMSCH\": \"category\",\n",
    "                                           \"iws_hoogte\": \"z\"},\n",
    "                           z_coord=True\n",
    "                           )\n",
    "print(gdf[\"code\"])\n",
    "grouper = gdf.groupby(\"code\")\n",
    "profiles = dict()\n",
    "\n",
    "for code, prof_gdf in grouper:\n",
    "    if len(prof_gdf) > 1: \n",
    "        prof_gdf = prof_gdf.sort_values(\"order\")  #Staan ook punten met zelfde order\n",
    "        first_point = prof_gdf.iloc[0][\"geometry\"]\n",
    "        cum_dist = -1\n",
    "        line = []\n",
    "        for idx, (_, row) in enumerate(prof_gdf.iterrows()):\n",
    "            geom = row[\"geometry\"]\n",
    "            distance = geom.distance(first_point)\n",
    "            if distance > cum_dist:\n",
    "                cum_dist = distance\n",
    "                line += [(geom.x, geom.y, row[\"z\"])]\n",
    "\n",
    "        profiles[code] = [code, LineString(line)]\n",
    "    else:\n",
    "        print(f\"Waarschuwing: {code} bevat slechts één punt\")\n",
    "profiles_gdf = gpd.GeoDataFrame.from_dict(profiles,\n",
    "                                          orient=\"index\",\n",
    "                                          columns=[\"code\",\n",
    "                                                   \"geometry\"]\n",
    "                                          )\n",
    "\n",
    "profiles_gdf[\"ruwheidstypecode\"] = 4\n",
    "profiles_gdf[\"ruwheidswaarde\"] = 35\n",
    "profiles_gdf[\"codegerelateerdobject\"] = None\n",
    "\n",
    "profiles_gdf = profiles_gdf.loc[profiles_gdf[\"geometry\"].length < 500]\n",
    "\n",
    "hydamo.crosssections.set_data(profiles_gdf,\n",
    "                              index_col=\"code\",\n",
    "                              check_columns=True,\n",
    "                              check_geotype=True)\n",
    "\n",
    "hydamo.crosssections.snap_to_branch(hydamo.branches, snap_method=\"intersecting\")\n",
    "hydamo.crosssections.dropna(axis=0, inplace=True, subset=[\"branch_offset\"])"
   ]
  },
  {
   "cell_type": "markdown",
   "metadata": {},
   "source": [
    "### Toevoegen geparameteriseerde profielen\n",
    "\n",
    "Per brug moet er een profiel worden toegevoegd"
   ]
  },
  {
   "cell_type": "code",
   "execution_count": null,
   "metadata": {
    "code_folding": []
   },
   "outputs": [],
   "source": [
    "gdf = hydrotools.read_file(beheerregister.joinpath(invoerbestanden[\"bruggen\"]),\n",
    "                           \"parametrised_profiles\",\n",
    "                           column_mapping={\n",
    "                                           \"KBRIDENT\":\"code\",\n",
    "                                           \"KBRBHBO\": \"bodemhoogtebovenstrooms\",\n",
    "                                           \"KBRBHBE\": \"bodemhoogtebenedenstrooms\",\n",
    "                                           \"KBRBREED\": \"bodembreedte\",\n",
    "                                           \"KBRHOBO\": \"hoogteinsteeklinkerzijde\",\n",
    "                                           })\n",
    "\n",
    "grouper = gdf.groupby(\"code\")\n",
    "data = {\"code\": [code for code, frame in grouper],\n",
    "        \"bodemhoogtebovenstrooms\": [frame[\"bodemhoogtebovenstrooms\"].values[0]\n",
    "                                    for code, frame in grouper],\n",
    "        \"bodemhoogtebenedenstrooms\": [frame[\"bodemhoogtebenedenstrooms\"].values[0]\n",
    "                                      for code, frame in grouper],\n",
    "        \"bodembreedte\": [frame[\"bodembreedte\"].values[0]\n",
    "                         for code, frame in grouper],\n",
    "        \"hoogteinsteeklinkerzijde\": [frame[\"hoogteinsteeklinkerzijde\"].values[0]\n",
    "                                     for code, frame in grouper],\n",
    "        \"geometry\": [frame[\"geometry\"].values[0] for code, frame in grouper]\n",
    "        }\n",
    "\n",
    "gdf = gpd.GeoDataFrame(data)\n",
    "gdf[\"geometry\"] = gdf.apply((lambda x: LineString([[x[\"geometry\"].x,\n",
    "                                                    x[\"geometry\"].y],\n",
    "                                                  [x[\"geometry\"].x+1,\n",
    "                                                   x[\"geometry\"].y+1]])),\n",
    "                            axis=1)\n",
    "\n",
    "gdf[\"codegerelateerdobject\"] = gdf[\"code\"].copy()\n",
    "gdf[\"code\"] = [f\"PRO_{code}\" for code in gdf[\"code\"]]\n",
    "gdf[\"hoogteinsteekrechterzijde\"] = gdf[\"hoogteinsteeklinkerzijde\"]\n",
    "gdf[\"ruwheidswaarde\"] = 15\n",
    "gdf[\"ruwheidstypecode\"] = 4\n",
    "gdf[\"taludhellinglinkerzijde\"] = 1\n",
    "gdf[\"taludhellingrechterzijde\"] = 1\n",
    "\n",
    "#vervang nan-waarde voor bodembreedte door  defaultwaarde 1\n",
    "gdf.loc[gdf[\"bodembreedte\"].isna(), \"bodembreedte\"] = 1\n",
    "\n",
    "hydamo.parametrised_profiles.set_data(gdf,\n",
    "                                      index_col=\"code\",\n",
    "                                      check_columns=True,\n",
    "                                      check_geotype=False)"
   ]
  },
  {
   "cell_type": "markdown",
   "metadata": {},
   "source": [
    "### Toevoegen bruggen\n",
    "Per brug moet er een profiel worden toegevoegd"
   ]
  },
  {
   "cell_type": "code",
   "execution_count": null,
   "metadata": {},
   "outputs": [],
   "source": [
    "gdf = hydrotools.read_file(beheerregister.joinpath(invoerbestanden[\"bruggen\"]),\n",
    "                           \"bridges\",\n",
    "                           column_mapping={\n",
    "                                           \"KBRIDENT\":\"code\",\n",
    "                                           \"KBRLENGT\": \"lengte\",\n",
    "                                           \"KBRHOBO\": \"hoogtebovenzijde\",\n",
    "                                           \"KBRBHBO\": \"hoogteonderzijde\"})\n",
    "\n",
    "grouper = gdf.groupby(\"code\")\n",
    "data = {\"code\": [code for code, frame in grouper],\n",
    "        \"hoogteonderzijde\": [frame[\"hoogteonderzijde\"].values[0] for code, frame in grouper],\n",
    "        \"hoogtebovenzijde\": [frame[\"hoogtebovenzijde\"].values[0] for code, frame in grouper], \n",
    "        \"lengte\": [frame[\"lengte\"].values[0] for code, frame in grouper],\n",
    "        \"geometry\": [frame[\"geometry\"].values[0] for code, frame in grouper]\n",
    "        }\n",
    "gdf = gpd.GeoDataFrame(data)\n",
    "\n",
    "#gdf[\"hoogtebovenzijde\"] = gdf[\"hoogteonderzijde\"] + 1\n",
    "\n",
    "gdf[\"dwarsprofielcode\"] = gdf[\"code\"]\n",
    "gdf[\"intreeverlies\"] = 0.7\n",
    "gdf[\"uittreeverlies\"] = 0.7\n",
    "gdf[\"ruwheidstypecode\"] = 4\n",
    "gdf[\"ruwheidswaarde\"] = 70\n",
    "\n",
    "hydamo.bridges.set_data(gdf, index_col=\"code\", check_columns=True, check_geotype=False)\n",
    "hydamo.bridges.snap_to_branch(hydamo.branches, snap_method=\"overal\", maxdist=1)\n",
    "hydamo.bridges.dropna(axis=0, inplace=True, subset=[\"branch_offset\"])\n",
    "print(\"Aantal bruggen binnen snapping distance: \" + str(len(hydamo.bridges)))\n",
    "hydamo.bridges.dropna(axis=0, inplace=True, subset=[\"hoogteonderzijde\"])\n",
    "print(\"Aantal bruggen toegevoegd aan het model: \" + str(len(hydamo.bridges)))\n"
   ]
  },
  {
   "cell_type": "markdown",
   "metadata": {},
   "source": [
    "### Toevoegen duikers en siphons\n",
    "duikers en sifons worden als cuverts aan het HyDAMO object toegekend\n",
    "\n",
    "ToDo\n",
    "* vorm moet naar HyDAMO codering worden omgeschreven"
   ]
  },
  {
   "cell_type": "code",
   "execution_count": null,
   "metadata": {},
   "outputs": [],
   "source": [
    "culverts_gdf = hydrotools.read_file(beheerregister.joinpath(invoerbestanden[\"duikers\"]),\n",
    "                                    \"culverts\",\n",
    "                                    column_mapping={\n",
    "                                                    \"KDUIDENT\": \"code\",\n",
    "                                                    \"KDULENGT\": \"lengte\",\n",
    "                                                    \"KDUHGA1\": \"hoogteopening\",\n",
    "                                                    \"KDUBREED\": \"breedteopening\",\n",
    "                                                    \"KDUBOKBE\": \"hoogtebinnenonderkantbenedenstrooms\",\n",
    "                                                    \"KDUBOKBO\": \"hoogtebinnenonderkantbovenstrooms\",\n",
    "                                                    \"KDUVORM\": \"vormcode\"})\n",
    "\n",
    "siphons_gdf = hydrotools.read_file(beheerregister.joinpath(invoerbestanden[\"sifons\"]),\n",
    "                                   \"culverts\",\n",
    "                                   column_mapping={\n",
    "                                                   \"KSYIDENT\": \"code\",\n",
    "                                                   \"IWS_LENGTE\": \"lengte\",\n",
    "                                                   \"KSYHGA1\": \"hoogteopening\",\n",
    "                                                   \"KSYBREED\": \"breedteopening\",\n",
    "                                                   \"IWS_HBOKBE\":\"hoogtebinnenonderkantbenedenstrooms\",\n",
    "                                                   \"IWS_HBOKBO\":\"hoogtebinnenonderkantbovenstrooms\",\n",
    "                                                   \"KSYVORM\":\"vormcode\"})\n",
    "\n",
    "gdf = gpd.GeoDataFrame(pd.concat([culverts_gdf,siphons_gdf], ignore_index=True))\n",
    "\n",
    "gdf.loc[gdf['vormcode'].isnull(), 'vormcode'] = 'onbekend'\n",
    "gdf.loc[:, 'vormcode'] = gdf.apply((lambda x: vorm_mapping[x['vormcode'].lower()]), axis=1)\n",
    "\n",
    "gdf[\"intreeverlies\"] = 0.7\n",
    "gdf[\"uittreeverlies\"] = 0.7\n",
    "gdf[\"ruwheidswaarde\"] = 70\n",
    "gdf[\"ruwheidstypecode\"] = 4\n",
    "\n",
    "hydamo.culverts.set_data(gdf, index_col=\"code\", check_columns=True, check_geotype=True)\n",
    "hydamo.culverts.snap_to_branch(hydamo.branches, snap_method=\"centroid\", maxdist=1)\n",
    "\n",
    "print(\"Number of culverts in datasource is \" + str(len(hydamo.culverts)))\n",
    "hydamo.culverts.dropna(axis=0, inplace=True, subset=[\"branch_offset\"])\n",
    "print(\"Number of culverts withing snapping range is \" + str(len(hydamo.culverts)))\n",
    "hydamo.culverts.dropna(axis=0, inplace=True, subset=[\"hoogtebinnenonderkantbovenstrooms\"])\n",
    "hydamo.culverts.dropna(axis=0, inplace=True, subset=[\"hoogtebinnenonderkantbenedenstrooms\"])\n",
    "print(\"Number of culverts written to model is \" + str(len(hydamo.culverts)))\n",
    "\n",
    "hydamo.culverts.loc[hydamo.culverts[\"hoogteopening\"].isna(), \"hoogteopening\"] = 0.5\n",
    "hydamo.culverts.loc[hydamo.culverts[\"breedteopening\"].isna(), \"breedteopening\"] = 0.5\n",
    "hydamo.culverts.loc[hydamo.culverts[\"lengte\"].isna(), \"lengte\"] = 20\n"
   ]
  },
  {
   "cell_type": "markdown",
   "metadata": {},
   "source": [
    "### Toevoegen stuwen"
   ]
  },
  {
   "cell_type": "code",
   "execution_count": null,
   "metadata": {},
   "outputs": [],
   "source": [
    "gdf = hydrotools.read_file(beheerregister.joinpath(invoerbestanden[\"stuwen\"]),\n",
    "                           \"weirs\",\n",
    "                           column_mapping={\"kstident\": \"code\",\n",
    "                                           \"kstsoort\": \"soortstuwcode\",\n",
    "                                           \"kstkrubr\": \"laagstedoorstroombreedte\",\n",
    "                                           \"kstmikho\": \"laagstedoorstroomhoogte\",\n",
    "                                           \"kstregel\": \"soortregelbaarheidcode\"})\n",
    "\n",
    "gdf[\"afvoercoefficient\"] = 1\n",
    "\n",
    "hydamo.weirs.set_data(gdf, index_col=\"code\", check_columns=True, check_geotype=True)\n",
    "hydamo.weirs.snap_to_branch(hydamo.branches, snap_method=\"overal\", maxdist=1)\n",
    "hydamo.weirs.dropna(axis=0, inplace=True, subset=[\"branch_offset\"])"
   ]
  },
  {
   "cell_type": "markdown",
   "metadata": {},
   "source": [
    "### Toevoegen gemalen"
   ]
  },
  {
   "cell_type": "code",
   "execution_count": null,
   "metadata": {},
   "outputs": [],
   "source": [
    "pumps_gdf = hydrotools.read_file(beheerregister.joinpath(invoerbestanden[\"gemalen\"]),\n",
    "                                 \"pumps\",\n",
    "                                 column_mapping={\n",
    "                                     \"KGMIDENT\": \"code\",\n",
    "                                     \"KGMMACAP\": \"maximalecapaciteit\"})\n",
    "\n",
    "gemalen_gdf = pumps_gdf.copy()\n",
    "pumps_gdf[\"codegerelateerdobject\"] = pumps_gdf[\"code\"].copy()\n",
    "pumps_gdf[\"code\"] = [f\"PMP_{code}\" for code in pumps_gdf[\"code\"]]\n",
    "hydamo.gemalen.set_data(gemalen_gdf,\n",
    "                        index_col=\"code\",\n",
    "                        check_columns=True,\n",
    "                        check_geotype=True)\n",
    "hydamo.gemalen.snap_to_branch(hydamo.branches, snap_method=\"overal\", maxdist=1)\n",
    "hydamo.gemalen.dropna(axis=0, inplace=True, subset=[\"branch_offset\"])\n",
    "hydamo.pumps.set_data(pumps_gdf,\n",
    "                      index_col=\"code\",\n",
    "                      check_columns=True,\n",
    "                      check_geotype=True)\n",
    "hydamo.pumps.snap_to_branch(hydamo.branches, snap_method=\"overal\", maxdist=1)\n",
    "hydamo.pumps.dropna(axis=0, inplace=True, subset=[\"branch_offset\"])"
   ]
  },
  {
   "cell_type": "markdown",
   "metadata": {},
   "source": [
    "### Toevoegen afsluitmiddelen"
   ]
  },
  {
   "cell_type": "code",
   "execution_count": null,
   "metadata": {},
   "outputs": [],
   "source": [
    "gdf = pd.DataFrame({\"code\": [],\n",
    "                    \"soortafsluitmiddelcode\": [],\n",
    "                    \"codegerelateerdobject\": []})\n",
    "\n",
    "hydamo.afsluitmiddel.set_data(gdf, index_col=\"code\")"
   ]
  },
  {
   "cell_type": "markdown",
   "metadata": {},
   "source": [
    "### Toevoegen sturing"
   ]
  },
  {
   "cell_type": "code",
   "execution_count": null,
   "metadata": {},
   "outputs": [],
   "source": [
    "gpg_gdf = hydrotools.read_file(beheerregister.joinpath(invoerbestanden[\"peilgebieden\"]),\n",
    "                                 \"sturing\",\n",
    "                                 column_mapping={\"GPGIDENT\": \"code\",\n",
    "                                                 \"GPGZMRPL\": \"streefwaarde\"\n",
    "                                                 })\n",
    "gpg_gdf[\"codegerelateerdobject\"] = [code.replace(\"GPG\", \"KGM\") for code in gpg_gdf[\"code\"]]\n",
    "gpg_gdf = gpg_gdf[gpg_gdf[\"codegerelateerdobject\"].isin(hydamo.gemalen[\"code\"])]\n",
    "\n",
    "con_gdf = hydamo.gemalen[hydamo.gemalen[\"code\"].isin(gpg_gdf[\"codegerelateerdobject\"])]\n",
    "con_gdf[\"objectid\"] = [code for code in con_gdf[\"code\"]]\n",
    "\n",
    "gdf = con_gdf.merge(gpg_gdf, how='left', left_on='objectid', right_on='codegerelateerdobject', suffixes=('', '_merge'))\n",
    "\n",
    "gdf[\"bovenmarge\"] = gdf[\"streefwaarde\"] + 0.05\n",
    "gdf[\"ondermarge\"] = gdf[\"streefwaarde\"] - 0.05\n",
    "gdf[\"doelvariabelecode\"] = 1\n",
    "\n",
    "hydamo.sturing.set_data(gdf, index_col=\"code\")\n",
    "\n",
    "print(\"sturing is ingesteld op basis van de onderstaande tabel:\")\n",
    "\n",
    "gdf\n"
   ]
  },
  {
   "cell_type": "markdown",
   "metadata": {},
   "source": [
    "### Filteren\n",
    "\n",
    "We maken een subset van branches op basis van waarden uit een gegeven veld. In dit geval worden alle takken waarvoor geldt OBJECTID = 1 opgenomen in de modelschematisatie. Idem voor alle kunstwerken + profielen die naar deze branches zijn gesnapped. Om het resultaat te beoordelen exporteren we alles naar shape-files. We slaan het hydamo object ook op als \"pickle\", zodat we bovenstaande stappen niet elke keer hoeven te herhalen"
   ]
  },
  {
   "cell_type": "code",
   "execution_count": null,
   "metadata": {},
   "outputs": [],
   "source": [
    "hydamo = hydrotools.filter_model(hydamo, attribute_filter={\"OBJECTID\": 1})\n",
    "#hydrotools.export_shapes(hydamo, path=Path(r\"./hydamo_shp/dellen\"))\n",
    "hydrotools.save_model(hydamo, file_name=Path(r\"./hydamo_model/dellen.pickle\"))\n"
   ]
  },
  {
   "cell_type": "markdown",
   "metadata": {},
   "source": [
    "## Converteren naar DFM\n",
    "\n",
    "### Aanmaken dfm-klassen"
   ]
  },
  {
   "cell_type": "code",
   "execution_count": null,
   "metadata": {},
   "outputs": [],
   "source": [
    "dfmmodel = DFlowFMModel()\n",
    "drrmodel = DFlowRRModel()"
   ]
  },
  {
   "cell_type": "markdown",
   "metadata": {},
   "source": [
    "### Inlezen kunstwerken en laterale instromingen"
   ]
  },
  {
   "cell_type": "code",
   "execution_count": null,
   "metadata": {},
   "outputs": [],
   "source": [
    "dfmmodel.structures.io.weirs_from_hydamo(hydamo.weirs,\n",
    "                                         yz_profiles=hydamo.crosssections,\n",
    "                                         parametrised_profiles=hydamo.parametrised_profiles)\n",
    "\n",
    "dfmmodel.structures.io.culverts_from_hydamo(hydamo.culverts,\n",
    "                                            hydamo.afsluitmiddel)\n",
    "\n",
    "dfmmodel.structures.io.bridges_from_hydamo(hydamo.bridges,\n",
    "                                           yz_profiles=hydamo.crosssections,\n",
    "                                           parametrised_profiles=hydamo.parametrised_profiles)\n",
    "\n",
    "#for lateral in hydamo.laterals.itertuples():\n",
    "#    dfmmodel.external_forcings.laterals[lateral.code] = {\n",
    "#        'branchid': lateral.branch_id,\n",
    "#        'branch_offset':str(lateral.branch_offset)\n",
    "#    }\n",
    "#    drrmodel.external_forcings.add_boundary_node(lateral.code, lateral.X, lateral.Y)\n",
    "\n",
    "\n",
    "dfmmodel.structures.io.orifices_from_hydamo(hydamo.orifices)\n",
    "\n",
    "dfmmodel.structures.io.pumps_from_hydamo(pompen=hydamo.pumps,\n",
    "                                         sturing=hydamo.sturing,\n",
    "                                         gemalen=hydamo.gemalen)"
   ]
  },
  {
   "cell_type": "markdown",
   "metadata": {},
   "source": [
    "### Aanmaken 1d netwerk"
   ]
  },
  {
   "cell_type": "code",
   "execution_count": null,
   "metadata": {},
   "outputs": [],
   "source": [
    "dfmmodel.network.set_branches(hydamo.branches)\n",
    "dfmmodel.network.generate_1dnetwork(one_d_mesh_distance=100.0, seperate_structures=True)"
   ]
  },
  {
   "cell_type": "markdown",
   "metadata": {},
   "source": [
    "### Toevoegen cross-sections"
   ]
  },
  {
   "cell_type": "code",
   "execution_count": null,
   "metadata": {},
   "outputs": [],
   "source": [
    "dfmmodel.crosssections.io.from_hydamo(\n",
    "    dwarsprofielen=hydamo.crosssections,\n",
    "    parametrised=hydamo.parametrised_profiles,\n",
    "    branches=hydamo.branches\n",
    ")\n",
    "\n",
    "print(f\"{len(dfmmodel.crosssections.get_branches_without_crosssection())} branches are still missing a cross section.\")\n",
    "print(f\"{len(dfmmodel.crosssections.get_structures_without_crosssection())} structures are still missing a cross section.\")"
   ]
  },
  {
   "cell_type": "markdown",
   "metadata": {},
   "source": [
    "### Toevoegen principeprofielen op takken die nog niet over een profiel beschikken"
   ]
  },
  {
   "cell_type": "code",
   "execution_count": null,
   "metadata": {},
   "outputs": [],
   "source": [
    "if len(dfmmodel.crosssections.get_branches_without_crosssection()) > 0:        \n",
    "    print(\"adding trapezium profiles on branches with missing crosssections.\")\n",
    "    #siebe 22-6-2021: onderscheid boven- en benedenstrooms profiel. Vanaf nu twee dataframes meegeven\n",
    "    # Bram 4-7-2021 maximum Flowwidth wordt 300 in output met closed=False!? -> closed=True\n",
    "    dfmmodel = hydrotools.add_trapeziums(dfmmodel, principe_profielen_bov_df, principe_profielen_ben_df, closed=True)\n",
    "\n",
    "print(f\"{len(dfmmodel.crosssections.get_branches_without_crosssection())} number of branches remain with no cross section due to missing data (no bedlevels).\")"
   ]
  },
  {
   "cell_type": "markdown",
   "metadata": {},
   "source": [
    "### Toevoegen vierkante profielen op takken met duiker en lengte vergelijkbaar met duikerlengte"
   ]
  },
  {
   "cell_type": "code",
   "execution_count": null,
   "metadata": {},
   "outputs": [],
   "source": [
    "# Bram 4-7-2021: Ronde profielen werkt niet -> Ook in GUI lukt het niet \n",
    "# om de dwarsdoorsnede door validatie heen te krijgen.\n",
    "# Verder lijkt D-FM moeite te hebben met gedeelte dwarsprofielen ('shared definitions')\n",
    "# Deze routine maakt daarom unieke definities aan per dwarsdoorsnede locatie\n",
    "\n",
    "crs_def_id = 0 # start uniek ID dwarsdoorsnede definitie\n",
    "\n",
    "# loop door branches_id's met missende crs\n",
    "for branch_id in dfmmodel.crosssections.get_branches_without_crosssection(): \n",
    "    \n",
    "    # als de branch in de culvert branch lijst staat (branch heeft culvert)\n",
    "    if branch_id in hydamo.culverts.branch_id.to_list(): \n",
    "\n",
    "        culvert_idx = hydamo.culverts.branch_id.to_list().index(branch_id) # index location van de duiker (niet nodig?)\n",
    "        culvert = hydamo.culverts.iloc[[culvert_idx]]\n",
    "        \n",
    "        # lengtes van duiker en watergang\n",
    "        culvert_length = culvert['lengte'][0]\n",
    "        branch_length = dfmmodel.network.branches.geometry[branch_id].length\n",
    "        \n",
    "        if culvert_length > 0.5 * branch_length: # check of de duiker meer dan 50% van de watergang beslaat\n",
    "        \n",
    "            # get culvert attributes\n",
    "            culvert_diameter = culvert['hoogteopening'][0]\n",
    "            roughnesstype = int(culvert['ruwheidstypecode'][0])\n",
    "            roughness = culvert['ruwheidswaarde'][0]\n",
    "            bob_boven = round(culvert['hoogtebinnenonderkantbovenstrooms'][0],3)\n",
    "            bob_beneden = round(culvert['hoogtebinnenonderkantbenedenstrooms'][0],3)\n",
    "\n",
    "            # maak unieke namen voor dwarsdoorsnede profiel definities\n",
    "            crs_def_boven_name = f'rect_{crs_def_id}'\n",
    "            crs_def_beneden_name = f'rect_{crs_def_id+1}'\n",
    "            crs_def_id += 2\n",
    "\n",
    "            # Voeg vierkante profiel definities toe\n",
    "            dfmmodel.crosssections.add_rectangle_definition(name= crs_def_boven_name, \n",
    "                                                         height = culvert_diameter, \n",
    "                                                         width = culvert_diameter, \n",
    "                                                         closed = False,\n",
    "                                                         roughnesstype = roughnesstype, \n",
    "                                                         roughnessvalue = roughness)\n",
    "            \n",
    "            dfmmodel.crosssections.add_rectangle_definition(name= crs_def_beneden_name, \n",
    "                                                         height = culvert_diameter, \n",
    "                                                         width = culvert_diameter, \n",
    "                                                         closed = False,\n",
    "                                                         roughnesstype = roughnesstype, \n",
    "                                                         roughnessvalue = roughness)\n",
    "\n",
    "\n",
    "            # Voeg dwarsdoorsnede locaties toe\n",
    "            dfmmodel.crosssections.add_crosssection_location(branchid = branch_id, \n",
    "                                                             chainage = 0.1, \n",
    "                                                             definition = crs_def_boven_name, \n",
    "                                                             shift = bob_boven)\n",
    "            \n",
    "            dfmmodel.crosssections.add_crosssection_location(branchid = branch_id,\n",
    "                                                             chainage = round((branch_length-0.1),4), \n",
    "                                                             definition = crs_def_beneden_name, \n",
    "                                                             shift = bob_beneden)\n",
    "\n",
    "            print(f'added crs for branch {branch_id} based on culvert {culvert[\"code\"][0]}')\n",
    "\n",
    "print(f\"{len(dfmmodel.crosssections.get_branches_without_crosssection())} number of branches remain with no cross section due to missing data.\")\n",
    "print('Still missing:', '\\n'.join(dfmmodel.crosssections.get_branches_without_crosssection()))\n",
    "\n",
    "## if branch contains culvert\n",
    "## if abs(length(branch) - (length(culvert))) <= 100 then\n",
    "##    we zitten in een kunstwerkvak\n",
    "##    maak rond profiel conform duikerprofile\n",
    "##    push rond profile naar dfmodel middels een dataframe\n"
   ]
  },
  {
   "cell_type": "code",
   "execution_count": null,
   "metadata": {},
   "outputs": [],
   "source": [
    "### alle overgebleven lege takken verwijderen"
   ]
  },
  {
   "cell_type": "raw",
   "metadata": {},
   "source": [
    "\n",
    "emptybranches = dfmmodel.crosssections.get_branches_without_crosssection()\n",
    "\n",
    "# Bram 4-7-2021: Deze code verwijderd branches. Hiermee worden ook branches verwijderd op siphons etc,\n",
    "# hierdoor kan het model niet worden weggeschreven. \n",
    "\n",
    "#print(\"Branches before removing branches without cross sections: \" + str(len(dfmmodel.network.branches)))\n",
    "\n",
    "#for emptybranch in emptybranches:\n",
    "#    if emptybranch not in hydamo.culverts.branch_id.to_list() + hydamo.weirs.branch_id.to_list():\n",
    "#        hydamo.branches.drop(emptybranch, inplace=True)\n",
    "#        dfmmodel.network.branches.drop(emptybranch, inplace=True)\n",
    "    \n",
    "#emptybranches = dfmmodel.crosssections.get_branches_without_crosssection()\n",
    "#print(\"Branches after removing: \" + str(len(dfmmodel.network.branches)))\n",
    "\n",
    "#dfmmodel.network.set_branches(hydamo.branches)\n",
    "#dfmmodel.network.generate_1dnetwork(one_d_mesh_distance=100.0, seperate_structures=True)\n"
   ]
  },
  {
   "cell_type": "markdown",
   "metadata": {},
   "source": [
    "### Randvoorwaarden toevoegen"
   ]
  },
  {
   "cell_type": "code",
   "execution_count": null,
   "metadata": {},
   "outputs": [],
   "source": [
    "rvw_df = pd.read_excel(excelbestanden.joinpath(modelbestanden[\"randvoorwaarden\"]))\n",
    "\n",
    "for _,row in rvw_df.iterrows():\n",
    "    branch_id = row[\"BRANCH_ID\"]\n",
    "    pt = hydamo.branches.loc[branch_id][\"geometry\"].coords[int(row[\"COORD\"])]\n",
    "    series = pd.Series(data=[-3.0, -3.0],\n",
    "                       index=[pd.Timestamp(\"2000-01-01 00\"),\n",
    "                              pd.Timestamp(\"2100-01-01 00\")]\n",
    "                       )\n",
    "    dfmmodel.external_forcings.add_boundary_condition(name=f\"BND_{branch_id}\",\n",
    "                                                      pt=pt,\n",
    "                                                      bctype=row[\"TYPE\"],\n",
    "                                                      series=series)\n",
    "    print(series)\n",
    "\n",
    "print(\"Boundary conditions written:\")\n",
    "rvw_df\n"
   ]
  },
  {
   "cell_type": "code",
   "execution_count": null,
   "metadata": {},
   "outputs": [],
   "source": [
    "rvw_df = pd.read_excel(excelbestanden.joinpath(modelbestanden[\"randvoorwaarden\"]))\n",
    "\n",
    "for _,row in rvw_df.iterrows():\n",
    "    branch_id = row[\"BRANCH_ID\"]\n",
    "    pt = hydamo.branches.loc[branch_id][\"geometry\"].coords[int(row[\"COORD\"])]\n",
    "    series = pd.Series(data=[-4.0, -4.0],\n",
    "                       index=[pd.Timestamp(\"2000-01-01\"),\n",
    "                              pd.Timestamp(\"2100-01-01\")]\n",
    "                       )"
   ]
  },
  {
   "cell_type": "markdown",
   "metadata": {},
   "source": [
    "### Wegschrijven model"
   ]
  },
  {
   "cell_type": "code",
   "execution_count": null,
   "metadata": {},
   "outputs": [],
   "source": [
    "dimr_path = r\"c:\\Program Files\\Deltares\\D-HYDRO Suite 1D2D (Beta) (0.9.11.53157)\\plugins\\DeltaShell.Dimr\\kernels\\x64\\dimr\\scripts\\run_dimr.bat\"\n",
    "start_datetime = pd.Timestamp('2000-01-01 00:00:00')\n",
    "end_datetime = start_datetime + pd.Timedelta(days=6)\n",
    "\n",
    "dfmmodel.mdu_parameters[\"refdate\"] = int(start_datetime.strftime(\"%Y%m%d\"))\n",
    "dfmmodel.mdu_parameters[\"tstart\"] = 0.0 * 3600\n",
    "dfmmodel.mdu_parameters[\"tstop\"] = 10 * 24 * 3600\n",
    "dfmmodel.mdu_parameters[\"hisinterval\"] = \"600. 0. 0.\"\n",
    "dfmmodel.mdu_parameters[\"mapinterval\"] = \"600. 0. 0.\"\n",
    "dfmmodel.mdu_parameters[\"wrirst_bnd\"] = 0\n",
    "dfmmodel.mdu_parameters[\"cflmax\"] = 0.7\n",
    "dfmmodel.mdu_parameters[\"outputdir\"] = \"output\"\n",
    "dfmmodel.dimr_path = dimr_path\n",
    "\n",
    "fm_writer = DFlowFMWriter(dfmmodel, output_dir=r\"dellen\", name=\"dellen\")\n",
    "\n",
    "fm_writer.objects_to_ldb()\n",
    "fm_writer.write_all()\n",
    "\n",
    "drrmodel.d3b_parameters['Timestepsize'] = 300\n",
    "drrmodel.d3b_parameters['StartTime'] = start_datetime.strftime(\"%Y/%m/%d;%H:%M:%S\") # should be equal to refdate for D-HYDRO\n",
    "drrmodel.d3b_parameters['EndTime'] = end_datetime.strftime(\"%Y/%m/%d;%H:%M:%S\")\n",
    "drrmodel.d3b_parameters['RestartIn'] = 0\n",
    "drrmodel.d3b_parameters['RestartOut'] = 0\n",
    "drrmodel.d3b_parameters['RestartFileNamePrefix'] ='Test'\n",
    "drrmodel.d3b_parameters['UnsaturatedZone'] = 1\n",
    "drrmodel.d3b_parameters['UnpavedPercolationLikeSobek213']=-1\n",
    "drrmodel.d3b_parameters['VolumeCheckFactorToCF']=100000\n",
    "drrmodel.dimr_path = dimr_path\n",
    "\n",
    "rr_writer = DFlowRRWriter(drrmodel,\n",
    "                          output_dir=r\"dellen\",\n",
    "                          name=\"dellen\")\n",
    "rr_writer.write_coupling()\n"
   ]
  },
  {
   "cell_type": "code",
   "execution_count": null,
   "metadata": {},
   "outputs": [],
   "source": [
    "#dfmmodel.mdu_parameters[\"refdate\"] = 20000101\n",
    "#dfmmodel.mdu_parameters[\"tstart\"] = 0.0 * 3600\n",
    "#dfmmodel.mdu_parameters[\"tstop\"] = 144.0 * 1 * 3600\n",
    "#dfmmodel.mdu_parameters[\"hisinterval\"] = \"120. 0. 0.\"\n",
    "#dfmmodel.mdu_parameters[\"cflmax\"] = 0.7\n",
    "\n",
    "\n",
    "#dimr_path = r\"dummypath\\run_dimr.bat\"\n",
    "#dfmmodel.dimr_path = dimr_path\n",
    "#fm_writer = DFlowFMWriter(dfmmodel, output_dir=\"dellen\", name=\"dellen\")\n",
    "\n",
    "#fm_writer.objects_to_ldb()\n",
    "#fm_writer.write_all()\n",
    "\n",
    "\n",
    "\n",
    "if Path(r\".\\dellen\\fm\\dellen.mdu\").exists():\n",
    "    print(\"Model is weggeschreven\")\n",
    "else:\n",
    "    print(\"Er is geen model geschreven. Waarschijnlijk is iets fout gegaan\")"
   ]
  },
  {
   "cell_type": "markdown",
   "metadata": {},
   "source": [
    "## Importeren in de D-Hydro suite\n",
    "\n",
    "Open het model nu in D-Hydro:\n",
    "1. Open een \"Empty Project\"\n",
    "2. In de \"Home\" ribbon, ga naar \"Import\" en selecteer \"Flow Flexible Mesh Model\"\n",
    "3. Selecteer het bestand \"boezemmodel.mdu\" in \".\\dfm_model\\fm\\boezemmodel.mdu\"\n",
    "4. Wacht tot het model is geimporteerd.....\n",
    "\n",
    "Het geimporteerde model is nu zichtbaar in de D-Hydro suite\n",
    "<img src=\"png/boezemmodel.png\"/>"
   ]
  },
  {
   "cell_type": "code",
   "execution_count": null,
   "metadata": {},
   "outputs": [],
   "source": [
    "#print(dfmmodel.external_forcings.laterals.keys())\n",
    "#print(drrmodel.external_forcings.boundary_nodes.keys())"
   ]
  },
  {
   "cell_type": "code",
   "execution_count": null,
   "metadata": {},
   "outputs": [],
   "source": []
  },
  {
   "cell_type": "code",
   "execution_count": null,
   "metadata": {},
   "outputs": [],
   "source": []
  },
  {
   "cell_type": "code",
   "execution_count": null,
   "metadata": {},
   "outputs": [],
   "source": []
  }
 ],
 "metadata": {
  "kernelspec": {
   "display_name": "Python 3",
   "language": "python",
   "name": "python3"
  },
  "language_info": {
   "codemirror_mode": {
    "name": "ipython",
    "version": 3
   },
   "file_extension": ".py",
   "mimetype": "text/x-python",
   "name": "python",
   "nbconvert_exporter": "python",
   "pygments_lexer": "ipython3",
   "version": "3.7.10"
  }
 },
 "nbformat": 4,
 "nbformat_minor": 4
}
